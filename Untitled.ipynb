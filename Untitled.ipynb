{
 "cells": [
  {
   "cell_type": "markdown",
   "metadata": {},
   "source": [
    "# Вариант 7\n",
    "|1.1       |1.2|2.1,3.1|2.2,3.2|2.3,3.3|2.4,3.4|4 |5      |6    |7    |8.1    |8.2       |9.1    |9.2    |9.3       |\n",
    "|:--------:|:-:|:-----:|:-----:|:-----:|:-----:|::|:-----:|-----|-----|-------|----------|-------|-------|----------|\n",
    "|C9 C10 C11|C9 |C9     |C9     |C11 C12|C11 C12|C9|C11 C12|С2 С5|С5 С4|C11 C12|C9 C10 C11|С11 С13|С11 С13|С11 С4 С13|\n",
    "\n",
    "## Features: \t\n",
    "|id |Description                                 |\n",
    "|---|--------------------------------------------|\n",
    "|C1 |Age (years)                                 |\n",
    "|C2 |Sex                                         |\n",
    "|C3 |Smoking status                              |\n",
    "|C4 |Quetelet (weight/(height^2))                |\n",
    "|C5 |Vitamin Use                                 |\n",
    "|C6 |Number of calories consumed per day         |\n",
    "|C7 |Grams of fat consumed per day               |\n",
    "|C8 |Grams of fiber consumed per day             |\n",
    "|C9 |Number of alcoholic drinks consumed per week|\n",
    "|C10|Cholesterol consumed (mg per day)           |\n",
    "|C11|Dietary beta-carotene consumed (mcg per day)|\n",
    "|C12|Dietary retinol consumed (mcg per day)      |\n",
    "|C13|Plasma beta-carotene (ng/ml)                |\n",
    "|C14|Plasma Retinol (ng/ml)                      |\n",
    "\n",
    "\t\n"
   ]
  },
  {
   "cell_type": "code",
   "execution_count": 49,
   "metadata": {},
   "outputs": [
    {
     "data": {
      "text/html": [
       "<style>table.htable td,\n",
       "table.htable th {\n",
       "    border: 1px solid black;\n",
       "}\n",
       "\n",
       "table.htable th,\n",
       "table.htable td.head {\n",
       "    text-align: center;\n",
       "    font-weight: bold;\n",
       "}\n",
       "\n",
       "table.htable tr {\n",
       "    background-color: white !important;\n",
       "}\n",
       "table.htable tr:hover {\n",
       "    background-color: #39f2 !important;\n",
       "}\n",
       "\n",
       ".bold { font-weight: bold !important; }\n",
       ".red { color: red !important; }\n",
       ".italic { font-decoration: italic !important; }\n",
       "\n",
       ".text-left { text-align: left !important; }\n",
       ".text-center { text-align: center !important; }\n",
       ".text-right { text-align: right !important; }\n",
       "</style>"
      ],
      "text/plain": [
       "<IPython.core.display.HTML object>"
      ]
     },
     "metadata": {},
     "output_type": "display_data"
    }
   ],
   "source": [
    "import math\n",
    "from pandas import *\n",
    "%matplotlib inline\n",
    "import numpy as np\n",
    "from scipy import stats\n",
    "import matplotlib.pyplot as plt\n",
    "from statsmodels.distributions.empirical_distribution import ECDF\n",
    "import pylab\n",
    "pylab.rcParams['figure.figsize'] = (24.0, 16.0)\n",
    "plt.rcParams.update({'font.size': 22})\n",
    "from s import Sample, HTable\n",
    "from s.utils import table, printf, load_styles\n",
    "load_styles()\n",
    "\n",
    "df = pandas.read_csv(\"/Users/a.eremeev/Downloads/data_matstat_K5_1.csv\")"
   ]
  },
  {
   "cell_type": "markdown",
   "metadata": {},
   "source": [
    "1"
   ]
  },
  {
   "cell_type": "markdown",
   "metadata": {},
   "source": [
    "[Выборочное среднее](https://ru.wikipedia.org/wiki/%D0%92%D1%8B%D0%B1%D0%BE%D1%80%D0%BE%D1%87%D0%BD%D0%BE%D0%B5_%D1%81%D1%80%D0%B5%D0%B4%D0%BD%D0%B5%D0%B5)\n",
    "[Выборочная Дисперсия](https://ru.wikipedia.org/wiki/%D0%92%D1%8B%D0%B1%D0%BE%D1%80%D0%BE%D1%87%D0%BD%D0%B0%D1%8F_%D0%B4%D0%B8%D1%81%D0%BF%D0%B5%D1%80%D1%81%D0%B8%D1%8F)\n",
    "[Выборочное среднеквадратическое отклонение](https://ru.wikipedia.org/wiki/%D0%A1%D1%80%D0%B5%D0%B4%D0%BD%D0%B5%D0%BA%D0%B2%D0%B0%D0%B4%D1%80%D0%B0%D1%82%D0%B8%D1%87%D0%B5%D1%81%D0%BA%D0%BE%D0%B5_%D0%BE%D1%82%D0%BA%D0%BB%D0%BE%D0%BD%D0%B5%D0%BD%D0%B8%D0%B5)\n",
    "[Выборочный коэффициент асимметрии](https://ru.wikipedia.org/wiki/%D0%9A%D0%BE%D1%8D%D1%84%D1%84%D0%B8%D1%86%D0%B8%D0%B5%D0%BD%D1%82_%D0%B0%D1%81%D0%B8%D0%BC%D0%BC%D0%B5%D1%82%D1%80%D0%B8%D0%B8)\n",
    "[Выборочный эксцесс](https://ru.wikipedia.org/wiki/%D0%9A%D0%BE%D1%8D%D1%84%D1%84%D0%B8%D1%86%D0%B8%D0%B5%D0%BD%D1%82_%D1%8D%D0%BA%D1%81%D1%86%D0%B5%D1%81%D1%81%D0%B0)"
   ]
  },
  {
   "cell_type": "code",
   "execution_count": 50,
   "metadata": {
    "scrolled": true
   },
   "outputs": [
    {
     "data": {
      "text/html": [
       "<table width=\"100%\" class=\"htable\">\n",
       "    <thead><tr><th>Выборочная характеристика</th><th>C9</th><th>C10</th><th>C11</th></tr></thead>\n",
       "    <tbody><tr><td>Среднее</td><td>3.2793650793650793</td><td>242.4606349206349</td><td>2185.6031746031745</td></tr><tr><td>Выборочная Дисперсия</td><td>151.3712884857647</td><td>17366.47889483497</td><td>2165445.2298311912</td></tr><tr><td>Выборочное среднеквадратическое отклонение</td><td>12.303303966242755</td><td>131.7819369065236</td><td>1471.5451844341005</td></tr><tr><td>Выборочный коэффициент асимметрии</td><td>13.757134658078</td><td>1.4729974670843415</td><td>1.6060431535588293</td></tr><tr><td>Выборочный эксцесс</td><td>217.81506388614636</td><td>3.3396698849351623</td><td>3.3991654155658946</td></tr></tbody>\n",
       "    </table>"
      ],
      "text/plain": [
       "<IPython.core.display.HTML object>"
      ]
     },
     "metadata": {},
     "output_type": "display_data"
    }
   ],
   "source": [
    "def print1_table(first, second, third):\n",
    "    np_first = np.array(df[first])\n",
    "    np_second = np.array(df[second])\n",
    "    np_third = np.array(df[third])\n",
    "    np_all = [np_first, np_second, np_third]\n",
    "    mean = [arr.mean() for arr in np_all]\n",
    "    mean.insert(0,\"Среднее\")\n",
    "    var = [arr.var() for arr in np_all]\n",
    "    var.insert(0,\"Выборочная Дисперсия\")\n",
    "    std = [arr.std() for arr in np_all]\n",
    "    std.insert(0,\"Выборочное среднеквадратическое отклонение\")\n",
    "    skew = [stats.skew(arr) for arr in np_all]\n",
    "    skew.insert(0,\"Выборочный коэффициент асимметрии\")\n",
    "    kurt = [stats.kurtosis(arr) for arr in np_all]\n",
    "    kurt.insert(0,\"Выборочный эксцесс\")\n",
    "    table(\n",
    "        ['Выборочная характеристика',first, second, third],\n",
    "        [\n",
    "            mean,\n",
    "            var,\n",
    "            std,\n",
    "            skew,\n",
    "            kurt,\n",
    "        ]\n",
    "    )\n",
    "    \n",
    "print1_table(\"C9\", \"C10\", \"C11\")\n",
    "    \n"
   ]
  },
  {
   "cell_type": "markdown",
   "metadata": {},
   "source": [
    "1.2 Анализируемый признак - C9\n",
    "    Объем выборки - 315"
   ]
  },
  {
   "cell_type": "code",
   "execution_count": 69,
   "metadata": {},
   "outputs": [
    {
     "data": {
      "text/html": [
       "<table width=\"100%\" class=\"htable\">\n",
       "    <thead><tr><th>Число групп</th><th>Обоснования выбора числа групп</th><th>Ширина интервалов</th></tr></thead>\n",
       "    <tbody><tr><td>9</td><td>формула Стерджесса</td><td>22.566666666666666</td></tr></tbody>\n",
       "    </table>"
      ],
      "text/plain": [
       "<IPython.core.display.HTML object>"
      ]
     },
     "metadata": {},
     "output_type": "display_data"
    },
    {
     "data": {
      "text/html": [
       "<table width=\"100%\" class=\"htable\">\n",
       "    <thead><tr><th>Номер интервала</th><th>Нижняя граница</th><th>Верхняя граница</th><th>Частота</th><th>Относит. частота</th><th>Накопл. частота</th><th>Относит. накопл. частота</th></tr></thead>\n",
       "    <tbody><tr><td>1</td><td>0.0</td><td>22.5667</td><td>312</td><td>0.9905</td><td>312</td><td>0.9905</td></tr><tr><td>2</td><td>22.5667</td><td>45.1333</td><td>2</td><td>0.0063</td><td>314</td><td>0.9968</td></tr><tr><td>3</td><td>45.1333</td><td>67.7</td><td>0</td><td>0.0</td><td>314</td><td>0.9968</td></tr><tr><td>4</td><td>67.7</td><td>90.2667</td><td>0</td><td>0.0</td><td>314</td><td>0.9968</td></tr><tr><td>5</td><td>90.2667</td><td>112.8333</td><td>0</td><td>0.0</td><td>314</td><td>0.9968</td></tr><tr><td>6</td><td>112.8333</td><td>135.4</td><td>0</td><td>0.0</td><td>314</td><td>0.9968</td></tr><tr><td>7</td><td>135.4</td><td>157.9667</td><td>0</td><td>0.0</td><td>314</td><td>0.9968</td></tr><tr><td>8</td><td>157.9667</td><td>180.5333</td><td>0</td><td>0.0</td><td>314</td><td>0.9968</td></tr><tr><td>9</td><td>180.5333</td><td>203.1</td><td>1</td><td>0.0032</td><td>315</td><td>1.0</td></tr></tbody>\n",
       "    </table>"
      ],
      "text/plain": [
       "<IPython.core.display.HTML object>"
      ]
     },
     "metadata": {},
     "output_type": "display_data"
    }
   ],
   "source": [
    "def print_1_2(first):\n",
    "    np_first = np.array(df[first])\n",
    "    begin = min(np_first)\n",
    "    #тут прибавляю 0.1  для того чтобы при расчете частот не потерять элементы с максимальным значением\n",
    "    end = max(np_first) + 0.1\n",
    "    n = len(np_first)\n",
    "    k = math.floor(1 + math.log(n, 2))\n",
    "    h =  (end - begin)/ k\n",
    "    table(\n",
    "        ['Число групп', 'Обоснования выбора числа групп', 'Ширина интервалов'],\n",
    "        [\n",
    "            [k, \"формула Стерджесса\", h]\n",
    "        ]\n",
    "    )\n",
    "    rows = []\n",
    "    for i in range(1, k + 1):\n",
    "        local_begin = begin + (i-1)*h\n",
    "        local_end   = begin + i*h\n",
    "        freq = len(list(filter(lambda t: t >= local_begin and t < local_end, list(np_first))))\n",
    "        m_freq = len(list(filter(lambda t: t < local_end, list(np_first))))\n",
    "        rows.append([i, round(local_begin, 4), round(local_end, 4), freq, round(freq/n, 4), m_freq, round(m_freq/n, 4)])\n",
    "    table(\n",
    "        ['Номер интервала', 'Нижняя граница', 'Верхняя граница', 'Частота', 'Относит. частота', 'Накопл. частота', 'Относит. накопл. частота'],\n",
    "        rows\n",
    "    )\n",
    "print_1_2(\"C9\")"
   ]
  },
  {
   "cell_type": "code",
   "execution_count": null,
   "metadata": {},
   "outputs": [],
   "source": []
  }
 ],
 "metadata": {
  "kernelspec": {
   "display_name": "Python 3",
   "language": "python",
   "name": "python3"
  },
  "language_info": {
   "codemirror_mode": {
    "name": "ipython",
    "version": 3
   },
   "file_extension": ".py",
   "mimetype": "text/x-python",
   "name": "python",
   "nbconvert_exporter": "python",
   "pygments_lexer": "ipython3",
   "version": "3.7.0"
  }
 },
 "nbformat": 4,
 "nbformat_minor": 2
}
