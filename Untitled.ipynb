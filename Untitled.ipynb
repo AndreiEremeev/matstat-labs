{
 "cells": [
  {
   "cell_type": "markdown",
   "metadata": {},
   "source": [
    "# Вариант 7\n",
    "|1.1       |1.2|2.1,3.1|2.2,3.2|2.3,3.3|2.4,3.4|4 |5      |6    |7    |8.1    |8.2       |9.1    |9.2    |9.3       |\n",
    "|:--------:|:-:|:-----:|:-----:|:-----:|:-----:|::|:-----:|-----|-----|-------|----------|-------|-------|----------|\n",
    "|C9 C10 C11|C9 |C9     |C9     |C11 C12|C11 C12|C9|C11 C12|С2 С5|С5 С4|C11 C12|C9 C10 C11|С11 С13|С11 С13|С11 С4 С13|\n",
    "\n",
    "## Features: \t\n",
    "|id |Description                                 |\n",
    "|---|--------------------------------------------|\n",
    "|C1 |Age (years)                                 |\n",
    "|C2 |Sex                                         |\n",
    "|C3 |Smoking status                              |\n",
    "|C4 |Quetelet (weight/(height^2))                |\n",
    "|C5 |Vitamin Use                                 |\n",
    "|C6 |Number of calories consumed per day         |\n",
    "|C7 |Grams of fat consumed per day               |\n",
    "|C8 |Grams of fiber consumed per day             |\n",
    "|C9 |Number of alcoholic drinks consumed per week|\n",
    "|C10|Cholesterol consumed (mg per day)           |\n",
    "|C11|Dietary beta-carotene consumed (mcg per day)|\n",
    "|C12|Dietary retinol consumed (mcg per day)      |\n",
    "|C13|Plasma beta-carotene (ng/ml)                |\n",
    "|C14|Plasma Retinol (ng/ml)                      |\n",
    "\n",
    "\t\n"
   ]
  },
  {
   "cell_type": "code",
   "execution_count": 2,
   "metadata": {},
   "outputs": [
    {
     "data": {
      "text/html": [
       "<style>table.htable td,\n",
       "table.htable th {\n",
       "    border: 1px solid black;\n",
       "}\n",
       "\n",
       "table.htable th,\n",
       "table.htable td.head {\n",
       "    text-align: center;\n",
       "    font-weight: bold;\n",
       "}\n",
       "\n",
       "table.htable tr {\n",
       "    background-color: white !important;\n",
       "}\n",
       "table.htable tr:hover {\n",
       "    background-color: #39f2 !important;\n",
       "}\n",
       "\n",
       ".bold { font-weight: bold !important; }\n",
       ".red { color: red !important; }\n",
       ".italic { font-decoration: italic !important; }\n",
       "\n",
       ".text-left { text-align: left !important; }\n",
       ".text-center { text-align: center !important; }\n",
       ".text-right { text-align: right !important; }\n",
       "</style>"
      ],
      "text/plain": [
       "<IPython.core.display.HTML object>"
      ]
     },
     "metadata": {},
     "output_type": "display_data"
    }
   ],
   "source": [
    "import math\n",
    "from pandas import *\n",
    "%matplotlib inline\n",
    "import numpy as np\n",
    "from scipy import stats\n",
    "import matplotlib.pyplot as plt\n",
    "from statsmodels.distributions.empirical_distribution import ECDF\n",
    "import pylab\n",
    "pylab.rcParams['figure.figsize'] = (24.0, 16.0)\n",
    "plt.rcParams.update({'font.size': 22})\n",
    "from s import Sample, HTable\n",
    "from s.utils import table, printf, load_styles\n",
    "load_styles()\n",
    "\n",
    "df = pandas.read_csv(\"/Users/a.eremeev/Downloads/data_matstat_K5_1.csv\")"
   ]
  },
  {
   "cell_type": "markdown",
   "metadata": {},
   "source": [
    "1"
   ]
  },
  {
   "cell_type": "markdown",
   "metadata": {},
   "source": [
    "[Выборочное среднее](https://ru.wikipedia.org/wiki/%D0%92%D1%8B%D0%B1%D0%BE%D1%80%D0%BE%D1%87%D0%BD%D0%BE%D0%B5_%D1%81%D1%80%D0%B5%D0%B4%D0%BD%D0%B5%D0%B5)\n",
    "[Выборочная Дисперсия](https://ru.wikipedia.org/wiki/%D0%92%D1%8B%D0%B1%D0%BE%D1%80%D0%BE%D1%87%D0%BD%D0%B0%D1%8F_%D0%B4%D0%B8%D1%81%D0%BF%D0%B5%D1%80%D1%81%D0%B8%D1%8F)\n",
    "[Выборочное среднеквадратическое отклонение](https://ru.wikipedia.org/wiki/%D0%A1%D1%80%D0%B5%D0%B4%D0%BD%D0%B5%D0%BA%D0%B2%D0%B0%D0%B4%D1%80%D0%B0%D1%82%D0%B8%D1%87%D0%B5%D1%81%D0%BA%D0%BE%D0%B5_%D0%BE%D1%82%D0%BA%D0%BB%D0%BE%D0%BD%D0%B5%D0%BD%D0%B8%D0%B5)\n",
    "[Выборочный коэффициент асимметрии](https://ru.wikipedia.org/wiki/%D0%9A%D0%BE%D1%8D%D1%84%D1%84%D0%B8%D1%86%D0%B8%D0%B5%D0%BD%D1%82_%D0%B0%D1%81%D0%B8%D0%BC%D0%BC%D0%B5%D1%82%D1%80%D0%B8%D0%B8)\n",
    "[Выборочный эксцесс](https://ru.wikipedia.org/wiki/%D0%9A%D0%BE%D1%8D%D1%84%D1%84%D0%B8%D1%86%D0%B8%D0%B5%D0%BD%D1%82_%D1%8D%D0%BA%D1%81%D1%86%D0%B5%D1%81%D1%81%D0%B0)"
   ]
  },
  {
   "cell_type": "code",
   "execution_count": 132,
   "metadata": {
    "scrolled": true
   },
   "outputs": [
    {
     "data": {
      "text/html": [
       "<table width=\"100%\" class=\"htable\">\n",
       "    <thead><tr><th>Выборочная характеристика</th><th>C9</th><th>C12</th><th>C11</th></tr></thead>\n",
       "    <tbody><tr><td>Среднее</td><td>3.28</td><td>832.71</td><td>2185.6</td></tr><tr><td>Выборочная Дисперсия</td><td>151.85</td><td>347261.56</td><td>2172341.55</td></tr><tr><td>Выборочное среднеквадратическое отклонение</td><td>12.32</td><td>589.29</td><td>1473.89</td></tr><tr><td>Выборочный коэффициент асимметрии</td><td>13.76</td><td>4.45</td><td>1.61</td></tr><tr><td>Выборочный эксцесс</td><td>217.82</td><td>37.45</td><td>3.4</td></tr></tbody>\n",
       "    </table>"
      ],
      "text/plain": [
       "<IPython.core.display.HTML object>"
      ]
     },
     "metadata": {},
     "output_type": "display_data"
    }
   ],
   "source": [
    "def print1_table(first, second, third):\n",
    "    np_first = np.array(df[first])\n",
    "    np_second = np.array(df[second])\n",
    "    np_third = np.array(df[third])\n",
    "    np_all = [np_first, np_second, np_third]\n",
    "    mean = [round(arr.mean(),4) for arr in np_all]\n",
    "    mean.insert(0,\"Среднее\")\n",
    "    var = [round(arr.var(ddof=1),4) for arr in np_all]\n",
    "    var.insert(0,\"Выборочная Дисперсия\")\n",
    "    std = [round(arr.std(ddof=1),4) for arr in np_all]\n",
    "    std.insert(0,\"Выборочное среднеквадратическое отклонение\")\n",
    "    skew = [round(stats.skew(arr),4) for arr in np_all]\n",
    "    skew.insert(0,\"Выборочный коэффициент асимметрии\")\n",
    "    kurt = [round(stats.kurtosis(arr),4) for arr in np_all]\n",
    "    kurt.insert(0,\"Выборочный эксцесс\")\n",
    "    table(\n",
    "        ['Выборочная характеристика',first, second, third],\n",
    "        [\n",
    "            mean,\n",
    "            var,\n",
    "            std,\n",
    "            skew,\n",
    "            kurt,\n",
    "        ]\n",
    "    )\n",
    "    \n",
    "print1_table(\"C9\", \"C10\", \"C11\")\n",
    "    \n"
   ]
  },
  {
   "cell_type": "markdown",
   "metadata": {},
   "source": [
    "1.2 Анализируемый признак - C9\n",
    "    Объем выборки - 315"
   ]
  },
  {
   "cell_type": "code",
   "execution_count": 102,
   "metadata": {},
   "outputs": [
    {
     "data": {
      "text/html": [
       "<table width=\"100%\" class=\"htable\">\n",
       "    <thead><tr><th>Число групп</th><th>Обоснования выбора числа групп</th><th>Ширина интервалов</th></tr></thead>\n",
       "    <tbody><tr><td>9</td><td>формула Стерджесса</td><td>22.566666666666666</td></tr></tbody>\n",
       "    </table>"
      ],
      "text/plain": [
       "<IPython.core.display.HTML object>"
      ]
     },
     "metadata": {},
     "output_type": "display_data"
    },
    {
     "data": {
      "text/html": [
       "<table width=\"100%\" class=\"htable\">\n",
       "    <thead><tr><th>Номер интервала</th><th>Нижняя граница</th><th>Верхняя граница</th><th>Частота</th><th>Относит. частота</th><th>Накопл. частота</th><th>Относит. накопл. частота</th></tr></thead>\n",
       "    <tbody><tr><td>1</td><td>0.0</td><td>22.5667</td><td>312</td><td>0.9905</td><td>312</td><td>0.9905</td></tr><tr><td>2</td><td>22.5667</td><td>45.1333</td><td>2</td><td>0.0063</td><td>314</td><td>0.9968</td></tr><tr><td>3</td><td>45.1333</td><td>67.7</td><td>0</td><td>0.0</td><td>314</td><td>0.9968</td></tr><tr><td>4</td><td>67.7</td><td>90.2667</td><td>0</td><td>0.0</td><td>314</td><td>0.9968</td></tr><tr><td>5</td><td>90.2667</td><td>112.8333</td><td>0</td><td>0.0</td><td>314</td><td>0.9968</td></tr><tr><td>6</td><td>112.8333</td><td>135.4</td><td>0</td><td>0.0</td><td>314</td><td>0.9968</td></tr><tr><td>7</td><td>135.4</td><td>157.9667</td><td>0</td><td>0.0</td><td>314</td><td>0.9968</td></tr><tr><td>8</td><td>157.9667</td><td>180.5333</td><td>0</td><td>0.0</td><td>314</td><td>0.9968</td></tr><tr><td>9</td><td>180.5333</td><td>203.1</td><td>1</td><td>0.0032</td><td>315</td><td>1.0</td></tr></tbody>\n",
       "    </table>"
      ],
      "text/plain": [
       "<IPython.core.display.HTML object>"
      ]
     },
     "metadata": {},
     "output_type": "display_data"
    },
    {
     "data": {
      "image/png": "[encoded data removed]",
      "text/plain": [
       "<Figure size 1728x1152 with 4 Axes>"
      ]
     },
     "metadata": {
      "needs_background": "light"
     },
     "output_type": "display_data"
    },
    {
     "data": {
      "image/png": "[encoded data removed]",
      "text/plain": [
       "<Figure size 1728x1152 with 1 Axes>"
      ]
     },
     "metadata": {
      "needs_background": "light"
     },
     "output_type": "display_data"
    }
   ],
   "source": [
    "def print_1_2(first):\n",
    "    np_first = np.array(df[first])\n",
    "    begin = min(np_first)\n",
    "    #тут прибавляю 0.1  для того чтобы при расчете частот не потерять элементы с максимальным значением\n",
    "    end = max(np_first) + 0.1\n",
    "    n = len(np_first)\n",
    "    k = math.floor(1 + math.log(n, 2))\n",
    "    h =  (end - begin)/ k\n",
    "    table(\n",
    "        ['Число групп', 'Обоснования выбора числа групп', 'Ширина интервалов'],\n",
    "        [\n",
    "            [k, \"формула Стерджесса\", h]\n",
    "        ]\n",
    "    )\n",
    "    rows = []\n",
    "    bins = [begin]\n",
    "    polygon_bins = []\n",
    "    for i in range(1, k + 1):\n",
    "        local_begin = begin + (i-1)*h\n",
    "        local_end   = begin + i*h\n",
    "        freq = len(list(filter(lambda t: t >= local_begin and t < local_end, list(np_first))))\n",
    "        m_freq = len(list(filter(lambda t: t < local_end, list(np_first))))\n",
    "        rows.append([i, round(local_begin, 4), round(local_end, 4), freq, round(freq/n, 4), m_freq, round(m_freq/n, 4)])\n",
    "        bins.append(local_end)\n",
    "        polygon_bins.append((local_begin + local_end)/2)\n",
    "    table(\n",
    "        ['Номер интервала', 'Нижняя граница', 'Верхняя граница', 'Частота', 'Относит. частота', 'Накопл. частота', 'Относит. накопл. частота'],\n",
    "        rows\n",
    "    )\n",
    "    rows = np.array(rows)\n",
    "    bins = np.array(bins)\n",
    "    \n",
    "    fig, axs = plt.subplots(2,2)\n",
    "\n",
    "    picture = axs[0][0]\n",
    "    picture.hist(np_first, bins=bins)\n",
    "    picture.plot(polygon_bins, rows[:,3], lw=5)\n",
    "    picture.set_title('Гистограма и полигон частот', fontsize=24)\n",
    "    picture = axs[0][1]\n",
    "    picture.hist(np_first, bins=bins, weights=list(map(lambda t:1/len(np_first), range(len(np_first)))))\n",
    "    picture.plot(polygon_bins, rows[:,4], lw=5)\n",
    "    picture.set_title('Гистограма и полигон относительных частот', fontsize=24)\n",
    "    picture = axs[1][0]\n",
    "    picture.hist(np_first, bins=bins, cumulative=True)\n",
    "    picture.plot(polygon_bins, rows[:,5], lw=5)\n",
    "    picture.set_title('Гистограма и полигон накопленных частот', fontsize=24)\n",
    "    picture = axs[1][1]\n",
    "    picture.hist(np_first, bins=bins, cumulative=True, weights=list(map(lambda t:1/len(np_first), range(len(np_first)))))\n",
    "    picture.plot(polygon_bins, rows[:,6], lw=5)\n",
    "    picture.set_title('Гистограма и полигон накопленных относитеьных частот', fontsize=24)\n",
    "    \n",
    "    \n",
    "    fig, ax = plt.subplots()\n",
    "    ax.set_title('Эмпирическая функции распределения')\n",
    "    ecdf = ECDF(np_first)\n",
    "    domain = np.linspace(min(np_first), max(np_first), len(np_first) * 2)\n",
    "    values = ecdf(domain)\n",
    "    ax.plot(domain, values, lw=5, label='ECDF')\n",
    "\n",
    "print_1_2(\"C9\")"
   ]
  },
  {
   "cell_type": "markdown",
   "metadata": {},
   "source": [
    "2. Интервальные оценки\n",
    "Формулы для расчета:\n",
    "[Тут](http://datalearning.ru/index.php/textbook?cid=1&mid=2&topic=3)"
   ]
  },
  {
   "cell_type": "code",
   "execution_count": 103,
   "metadata": {},
   "outputs": [
    {
     "data": {
      "text/html": [
       "<table width=\"100%\" class=\"htable\">\n",
       "    <thead><tr><th>Граница доверительного интервала</th><th>$\\alpha=0.01$</th><th>$\\alpha=0.05$</th><th>$\\alpha=0.1$</th></tr></thead>\n",
       "    <tbody><tr><td>Нижняя граница</td><td>1.48</td><td>1.91</td><td>2.13</td></tr><tr><td>Верхняя граница</td><td>5.08</td><td>4.65</td><td>4.42</td></tr></tbody>\n",
       "    </table>"
      ],
      "text/plain": [
       "<IPython.core.display.HTML object>"
      ]
     },
     "metadata": {},
     "output_type": "display_data"
    }
   ],
   "source": [
    "def mean_confidence_interval(data, alpha):\n",
    "    a = 1.0 * np.array(data)\n",
    "    n = len(a)\n",
    "    m = a.mean()\n",
    "    h = a.std(ddof=1) / np.sqrt(n) * stats.t.ppf(1 - alpha/ 2., n-1)\n",
    "    return m, m-h, m+h\n",
    "\n",
    "def print_2_1(first):\n",
    "    np_first = np.array(df[first])\n",
    "    _, l1, h1 = mean_confidence_interval(np_first, 0.01)\n",
    "    _, l2, h2 = mean_confidence_interval(np_first, 0.05)\n",
    "    _, l3, h3 = mean_confidence_interval(np_first, 0.1)\n",
    "    table(\n",
    "        ['Граница доверительного интервала', '$\\\\alpha=0.01$', '$\\\\alpha=0.05$', '$\\\\alpha=0.1$'],\n",
    "        [\n",
    "            ['Нижняя граница', round(l1,4), round(l2,4), round(l3,4)],\n",
    "            ['Верхняя граница', round(h1,4), round(h2,4), round(h3,4)]\n",
    "        ]\n",
    "    )\n",
    "    \n",
    "print_2_1(\"C9\")"
   ]
  },
  {
   "cell_type": "code",
   "execution_count": 104,
   "metadata": {},
   "outputs": [
    {
     "data": {
      "text/html": [
       "<table width=\"100%\" class=\"htable\">\n",
       "    <thead><tr><th>Граница доверительного интервала</th><th>$\\alpha=0.01$</th><th>$\\alpha=0.05$</th><th>$\\alpha=0.1$</th></tr></thead>\n",
       "    <tbody><tr><td>Нижняя граница</td><td>152.33</td><td>152.94</td><td>153.71</td></tr><tr><td>Верхняя граница</td><td>188.31</td><td>178.72</td><td>174.05</td></tr></tbody>\n",
       "    </table>"
      ],
      "text/plain": [
       "<IPython.core.display.HTML object>"
      ]
     },
     "metadata": {},
     "output_type": "display_data"
    }
   ],
   "source": [
    "def var_confidence_interval(data, alpha):\n",
    "    a = 1.0 * np.array(data)\n",
    "    n = len(a)\n",
    "    var = np.var(a, ddof=1)\n",
    "    l = var * (n - 1) / stats.chi2.ppf((1 - alpha) / 2., n-1)\n",
    "    h = var * (n - 1) / stats.chi2.ppf(alpha / 2., n-1)\n",
    "    return var, l, h\n",
    "\n",
    "def print_2_2(first):\n",
    "    np_first = np.array(df[first])\n",
    "    _, l1, h1 = var_confidence_interval(np_first, 0.01)\n",
    "    _, l2, h2 = var_confidence_interval(np_first, 0.05)\n",
    "    _, l3, h3 = var_confidence_interval(np_first, 0.1)\n",
    "    table(\n",
    "        ['Граница доверительного интервала', '$\\\\alpha=0.01$', '$\\\\alpha=0.05$', '$\\\\alpha=0.1$'],\n",
    "        [\n",
    "            ['Нижняя граница', round(l1,4), round(l2,4), round(l3,4)],\n",
    "            ['Верхняя граница', round(h1,4), round(h2,4), round(h3,4)]\n",
    "        ]\n",
    "    )\n",
    "    \n",
    "print_2_2(\"C9\")"
   ]
  },
  {
   "cell_type": "code",
   "execution_count": 135,
   "metadata": {},
   "outputs": [
    {
     "data": {
      "text/html": [
       "<table width=\"100%\" class=\"htable\">\n",
       "    <thead><tr><th>Граница доверительного интервала</th><th>$\\alpha=0.01$</th><th>$\\alpha=0.05$</th><th>$\\alpha=0.1$</th></tr></thead>\n",
       "    <tbody><tr><td>Нижняя граница</td><td>1121.82</td><td>1177.26</td><td>1205.56</td></tr><tr><td>Верхняя граница</td><td>1583.96</td><td>1528.52</td><td>1500.21</td></tr></tbody>\n",
       "    </table>"
      ],
      "text/plain": [
       "<IPython.core.display.HTML object>"
      ]
     },
     "metadata": {},
     "output_type": "display_data"
    }
   ],
   "source": [
    "def mean_diff_confidence_interval(x1, x2, alpha):\n",
    "    x1 = 1.0 * np.array(x1)\n",
    "    x2 = 1.0 * np.array(x2)\n",
    "    n1 = len(x1)\n",
    "    n2 = len(x2)\n",
    "    s1 = x1.std(ddof=1) \n",
    "    s2 = x2.std(ddof=1)\n",
    "    S = (n1 - 1) * s1 * s1 + (n2 - 1) * s2 * s2\n",
    "    S /= n1 + n2 - 2\n",
    "    mean_diff = x1.mean() - x2.mean()\n",
    "    h = stats.t.ppf(1 - alpha/2., n1 + n2 - 2) * np.sqrt(S) * np.sqrt(1/n1 + 1/n2)\n",
    "    return mean_diff, mean_diff - h, mean_diff + h\n",
    "\n",
    "def print_2_3(first, second):\n",
    "    np_first = np.array(df[first])\n",
    "    np_second = np.array(df[second])\n",
    "    _, l1, h1 = mean_diff_confidence_interval(np_first, np_second, 0.01)\n",
    "    _, l2, h2 = mean_diff_confidence_interval(np_first, np_second, 0.05)\n",
    "    _, l3, h3 = mean_diff_confidence_interval(np_first, np_second, 0.1)\n",
    "    table(\n",
    "        ['Граница доверительного интервала', '$\\\\alpha=0.01$', '$\\\\alpha=0.05$', '$\\\\alpha=0.1$'],\n",
    "        [\n",
    "            ['Нижняя граница', round(l1,4), round(l2,4), round(l3,4)],\n",
    "            ['Верхняя граница', round(h1,4), round(h2,4), round(h3,4)]\n",
    "        ]\n",
    "    )\n",
    "    \n",
    "print_2_3(\"C11\", \"C12\")"
   ]
  },
  {
   "cell_type": "code",
   "execution_count": 106,
   "metadata": {},
   "outputs": [
    {
     "data": {
      "text/html": [
       "<table width=\"100%\" class=\"htable\">\n",
       "    <thead><tr><th>Граница доверительного интервала</th><th>$\\alpha=0.01$</th><th>$\\alpha=0.05$</th><th>$\\alpha=0.1$</th></tr></thead>\n",
       "    <tbody><tr><td>Нижняя граница</td><td>4.67</td><td>5.01</td><td>5.19</td></tr><tr><td>Верхняя граница</td><td>8.37</td><td>7.81</td><td>7.53</td></tr></tbody>\n",
       "    </table>"
      ],
      "text/plain": [
       "<IPython.core.display.HTML object>"
      ]
     },
     "metadata": {},
     "output_type": "display_data"
    }
   ],
   "source": [
    "def var_div_confidence_interval(x1, x2, alpha):\n",
    "    x1 = 1.0 * np.array(x1)\n",
    "    x2 = 1.0 * np.array(x2)\n",
    "    n1 = len(x1)\n",
    "    n2 = len(x2)\n",
    "    var_div = x1.var(ddof=1) / x2.var(ddof=1)\n",
    "    l = var_div * stats.f.ppf(alpha/2., n1 - 1, n2 - 1)\n",
    "    h = var_div * stats.f.ppf(1 - alpha/2., n1 - 1, n2 - 1)\n",
    "    return var_div, l, h\n",
    "\n",
    "def print_2_4(first, second):\n",
    "    np_first = np.array(df[first])\n",
    "    np_second = np.array(df[second])\n",
    "    _, l1, h1 = var_div_confidence_interval(np_first, np_second, 0.01)\n",
    "    _, l2, h2 = var_div_confidence_interval(np_first, np_second, 0.05)\n",
    "    _, l3, h3 = var_div_confidence_interval(np_first, np_second, 0.1)\n",
    "    table(\n",
    "        ['Граница доверительного интервала', '$\\\\alpha=0.01$', '$\\\\alpha=0.05$', '$\\\\alpha=0.1$'],\n",
    "        [\n",
    "            ['Нижняя граница', round(l1,4), round(l2,4), round(l3,4)],\n",
    "            ['Верхняя граница', round(h1,4), round(h2,4), round(h3,4)]\n",
    "        ]\n",
    "    )\n",
    "    \n",
    "print_2_4(\"C11\", \"C12\")"
   ]
  },
  {
   "cell_type": "markdown",
   "metadata": {},
   "source": [
    "Формулки: [статистики критерия](http://datalearning.ru/index.php/textbook?cid=1&mid=3&topic=2)\n",
    "[p-value](http://datalearning.ru/index.php/textbook?cid=1&mid=3&topic=1)"
   ]
  },
  {
   "cell_type": "code",
   "execution_count": null,
   "metadata": {},
   "outputs": [],
   "source": []
  },
  {
   "cell_type": "code",
   "execution_count": 119,
   "metadata": {},
   "outputs": [
    {
     "data": {
      "text/html": [
       "<table width=\"100%\" class=\"htable\">\n",
       "    <thead><tr><th>$m_0$</th><th>Уровень значимости</th><th>Выборочное значение статистики критерия</th><th>p-value</th><th>Статистическое решение</th><th>Вывод</th></tr></thead>\n",
       "    <tbody><tr><td>3</td><td>0.1</td><td>0.4</td><td>0.69</td><td>H0</td><td>?</td></tr><tr><td>4</td><td>0.1</td><td>-1.04</td><td>0.3</td><td>H0</td><td>?</td></tr><tr><td>5</td><td>0.1</td><td>-2.48</td><td>0.01</td><td>H'</td><td>?</td></tr></tbody>\n",
       "    </table>"
      ],
      "text/plain": [
       "<IPython.core.display.HTML object>"
      ]
     },
     "metadata": {},
     "output_type": "display_data"
    }
   ],
   "source": [
    "def criterion_t_test_row(sample, m0, alpha=0.1):\n",
    "    s = np.std(sample, ddof=1)\n",
    "    mean = np.mean(sample)\n",
    "    z = (mean - m0) / s * np.sqrt(len(sample))\n",
    "    t_quantile = stats.t.ppf(1 - alpha / 2, len(sample) - 1)\n",
    "    decision = 'H0' if abs(z) < t_quantile else 'H\\''\n",
    "    left_p = stats.t.cdf(z, len(sample) - 1)\n",
    "    p_value = 2 * min(left_p, 1 - left_p)\n",
    "    return m0, alpha, round(z, 4), round(p_value,4), decision, '?'\n",
    "\n",
    "def print_3_1(first):\n",
    "    np_first = np.array(df[first])\n",
    "    table(\n",
    "    ['$m_0$', 'Уровень значимости', 'Выборочное значение статистики критерия', 'p-value', 'Статистическое решение', 'Вывод'],\n",
    "    [\n",
    "       criterion_t_test_row(np_first, 3), \n",
    "       criterion_t_test_row(np_first, 4), \n",
    "       criterion_t_test_row(np_first, 5), \n",
    "    ])\n",
    "print_3_1(\"C9\")"
   ]
  },
  {
   "cell_type": "code",
   "execution_count": 120,
   "metadata": {},
   "outputs": [
    {
     "data": {
      "text/html": [
       "<table width=\"100%\" class=\"htable\">\n",
       "    <thead><tr><th>$m_0$</th><th>Уровень значимости</th><th>Выборочное значение статистики критерия</th><th>p-value</th><th>Статистическое решение</th><th>Вывод</th></tr></thead>\n",
       "    <tbody><tr><td>12</td><td>0.1</td><td>331.12</td><td>0.49</td><td>H0</td><td>?</td></tr><tr><td>13</td><td>0.1</td><td>282.14</td><td>0.2</td><td>H0</td><td>?</td></tr><tr><td>15</td><td>0.1</td><td>211.92</td><td>0.0</td><td>H'</td><td>?</td></tr></tbody>\n",
       "    </table>"
      ],
      "text/plain": [
       "<IPython.core.display.HTML object>"
      ]
     },
     "metadata": {},
     "output_type": "display_data"
    }
   ],
   "source": [
    "def criterion_chi2_no_m_row(sample, sigma, alpha=0.1):\n",
    "    s2 = np.var(sample, ddof=1)\n",
    "    z = (len(sample) - 1) * s2 / sigma**2\n",
    "    quantile_r = stats.chi2.ppf(1 - alpha / 2, len(sample) - 1)\n",
    "    quantile_l = stats.chi2.ppf(alpha / 2, len(sample) - 1)\n",
    "    decision = 'H0' if z > quantile_l and z < quantile_r else 'H\\''\n",
    "    left_p = stats.chi2.cdf(z, len(sample) - 1)\n",
    "    p_value = 2 * min(left_p, 1 - left_p)\n",
    "    return sigma, alpha, round(z, 4), round(p_value,4), decision, '?'\n",
    "def print_3_2(first):\n",
    "    np_first = np.array(df[first])\n",
    "    table(\n",
    "    ['$m_0$', 'Уровень значимости', 'Выборочное значение статистики критерия', 'p-value', 'Статистическое решение', 'Вывод'],\n",
    "    [\n",
    "       criterion_chi2_no_m_row(np_first, 12), \n",
    "       criterion_chi2_no_m_row(np_first, 13), \n",
    "       criterion_chi2_no_m_row(np_first, 15), \n",
    "    ])\n",
    "print_3_2(\"C9\")"
   ]
  },
  {
   "cell_type": "code",
   "execution_count": 139,
   "metadata": {},
   "outputs": [
    {
     "data": {
      "text/html": [
       "<table width=\"100%\" class=\"htable\">\n",
       "    <thead><tr><th>Уровень значимости</th><th>Выборочное значение статистики критерия</th><th>p-value</th><th>Статистическое решение</th><th>Вывод</th></tr></thead>\n",
       "    <tbody><tr><td>0.01</td><td>15.13</td><td>0.0</td><td>H'</td><td>?</td></tr><tr><td>0.05</td><td>15.13</td><td>0.0</td><td>H'</td><td>?</td></tr><tr><td>0.1</td><td>15.13</td><td>0.0</td><td>H'</td><td>?</td></tr></tbody>\n",
       "    </table>"
      ],
      "text/plain": [
       "<IPython.core.display.HTML object>"
      ]
     },
     "metadata": {},
     "output_type": "display_data"
    }
   ],
   "source": [
    "def criterion_t2_test_row(sample1, sample2, alpha):\n",
    "    s1 = np.std(sample1, ddof=1)\n",
    "    s2 = np.std(sample2, ddof=1)\n",
    "    n1 = len(sample1)\n",
    "    n2 = len(sample2)\n",
    "    S = (n1 - 1) * s1 * s1 + (n2 - 1) * s2 * s2\n",
    "    S /= n1 + n2 - 2\n",
    "    S = np.sqrt(S)\n",
    "    \n",
    "    m1 = np.mean(sample1)\n",
    "    m2 = np.mean(sample2)\n",
    "    z = (m1 - m2) / S\n",
    "    z /= np.sqrt(1.0 / n1 + 1.0 / n2)\n",
    "    quantile = stats.t.ppf(1 - alpha / 2, len(sample1) + len(sample2) - 2)\n",
    "    decision = 'H0' if abs(z) < quantile else 'H\\''\n",
    "    left_p = stats.t.cdf(z, len(sample1) + len(sample2) - 2)\n",
    "    p_value =  2 * min(left_p, 1 - left_p)\n",
    "    return alpha, round(z,4), round(p_value, 4), decision, '?' \n",
    "def print_3_3(first, second):\n",
    "    np_first = np.array(df[first])\n",
    "    np_second = np.array(df[second])\n",
    "    table(\n",
    "    ['Уровень значимости', 'Выборочное значение статистики критерия', 'p-value', 'Статистическое решение', 'Вывод'],       \n",
    "        [\n",
    "           criterion_t2_test_row(np_first, np_second, 0.01),\n",
    "           criterion_t2_test_row(np_first, np_second, 0.05),\n",
    "           criterion_t2_test_row(np_first, np_second, 0.1),\n",
    "        ]\n",
    "    )\n",
    "    \n",
    "print_3_3(\"C11\", \"C12\")"
   ]
  },
  {
   "cell_type": "code",
   "execution_count": 3,
   "metadata": {},
   "outputs": [
    {
     "data": {
      "text/html": [
       "<table width=\"100%\" class=\"htable\">\n",
       "    <thead><tr><th>Уровень значимости</th><th>Выборочное значение статистики критерия</th><th>p-value</th><th>Статистическое решение</th><th>Вывод</th></tr></thead>\n",
       "    <tbody><tr><td>0.01</td><td>2.5011</td><td>0.0</td><td>H'</td><td>?</td></tr><tr><td>0.05</td><td>2.5011</td><td>0.0</td><td>H'</td><td>?</td></tr><tr><td>0.1</td><td>2.5011</td><td>0.0</td><td>H'</td><td>?</td></tr></tbody>\n",
       "    </table>"
      ],
      "text/plain": [
       "<IPython.core.display.HTML object>"
      ]
     },
     "metadata": {},
     "output_type": "display_data"
    }
   ],
   "source": [
    "def criterion_f_test_no_m_row(sample1, sample2, alpha):\n",
    "    z = np.std(sample1,ddof=1)/np.std(sample2,ddof=1)\n",
    "    quantile = stats.f.ppf(1 - alpha / 2, len(sample1) - 1,len(sample2) - 1)\n",
    "    decision = 'H0' if z < quantile else 'H\\''\n",
    "    p_value = 1 - stats.f.cdf(z, len(sample1) - 1, len(sample2) - 1)\n",
    "    return alpha, round(z, 4), round(p_value, 4), decision, '?'\n",
    "def print_3_4(first, second):\n",
    "    np_first = np.array(df[first])\n",
    "    np_second = np.array(df[second])\n",
    "    table(\n",
    "    ['Уровень значимости', 'Выборочное значение статистики критерия', 'p-value', 'Статистическое решение', 'Вывод'],       \n",
    "        [\n",
    "           criterion_f_test_no_m_row(np_first, np_second, 0.01),\n",
    "           criterion_f_test_no_m_row(np_first, np_second, 0.05),\n",
    "           criterion_f_test_no_m_row(np_first, np_second, 0.1),\n",
    "        ]\n",
    "    )\n",
    "    \n",
    "print_3_4(\"C11\", \"C12\")"
   ]
  },
  {
   "cell_type": "code",
   "execution_count": null,
   "metadata": {},
   "outputs": [],
   "source": []
  }
 ],
 "metadata": {
  "kernelspec": {
   "display_name": "Python 3",
   "language": "python",
   "name": "python3"
  },
  "language_info": {
   "codemirror_mode": {
    "name": "ipython",
    "version": 3
   },
   "file_extension": ".py",
   "mimetype": "text/x-python",
   "name": "python",
   "nbconvert_exporter": "python",
   "pygments_lexer": "ipython3",
   "version": "3.7.0"
  }
 },
 "nbformat": 4,
 "nbformat_minor": 2
}
