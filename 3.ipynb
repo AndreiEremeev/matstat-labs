{
 "cells": [
  {
   "cell_type": "markdown",
   "metadata": {},
   "source": [
    "# Лабораторная работа №3. Однофакторный дисперсионный анализ\n",
    "\n",
    "> Вариант № ??\n",
    "\n",
    "**Распределения**:\n",
    "\n",
    "$X_1$ ~ ?? (объём выборки $n_1$ &mdash; ?)\n",
    "\n",
    "$X_2$ ~ ?? (объём выборки $n_2$ &mdash; ?)\n",
    "\n",
    "$X_3$ ~ ?? (объём выборки $n_3$ &mdash; ?)"
   ]
  },
  {
   "cell_type": "code",
   "execution_count": 24,
   "metadata": {},
   "outputs": [],
   "source": [
    "%matplotlib inline\n",
    "import numpy as np\n",
    "from scipy import stats\n",
    "import matplotlib.pyplot as plt\n",
    "from statsmodels.distributions.empirical_distribution import ECDF\n",
    "\n",
    "# Немного магии для того, чтобы рисунки стали больше\n",
    "import pylab\n",
    "pylab.rcParams['figure.figsize'] = (24.0, 16.0)\n",
    "plt.rcParams.update({'font.size': 22})\n",
    "\n",
    "# Вспомогательные классы и функции, определённые тут же (см. репозиторий)\n",
    "# https://github.com/BobNobrain/matstat-labs/tree/master/s\n",
    "from s import Sample, PooledSample, BartlettHyp, OneWayAnovaHyp, LinearContrastHyp\n",
    "from s.utils import table, printf"
   ]
  },
  {
   "cell_type": "markdown",
   "metadata": {},
   "source": [
    "## 1. Исходные данные"
   ]
  },
  {
   "cell_type": "code",
   "execution_count": 41,
   "metadata": {},
   "outputs": [
    {
     "name": "stdout",
     "output_type": "stream",
     "text": [
      "Характеристики наблюдаемых случайных величин:\n"
     ]
    },
    {
     "data": {
      "text/html": [
       "<table width=\"100%\">\n",
       "    <thead><tr><td>СВ</td><td>Распределение</td><td>Параметры</td><td>$m_i$</td><td>$\\sigma_i^2$</td><td>$n_i$</td></tr></thead>\n",
       "    <tbody><tr><td>X1</td><td>N</td><td>$m=0.0, \\sigma=1.0$</td><td>0.0</td><td>1.0</td><td>100</td></tr><tr><td>X2</td><td>N</td><td>$m=0.1, \\sigma=1.1$</td><td>0.01</td><td>1.2100000000000002</td><td>200</td></tr><tr><td>X3</td><td>N</td><td>$m=-0.3, \\sigma=0.9$</td><td>-0.02</td><td>0.81</td><td>150</td></tr></tbody>\n",
       "    </table>"
      ],
      "text/plain": [
       "<IPython.core.display.HTML object>"
      ]
     },
     "metadata": {},
     "output_type": "display_data"
    },
    {
     "data": {
      "text/html": [
       "<p>Количество случайных величин $k=3$</p>"
      ],
      "text/plain": [
       "<IPython.core.display.HTML object>"
      ]
     },
     "metadata": {},
     "output_type": "display_data"
    }
   ],
   "source": [
    "X1 = stats.norm(0, 1)\n",
    "X2 = stats.norm(0.01, 1.1)\n",
    "X3 = stats.norm(-0.02, 0.9)\n",
    "\n",
    "n1 = 100\n",
    "n2 = 200\n",
    "n3 = 150\n",
    "\n",
    "print('Характеристики наблюдаемых случайных величин:')\n",
    "table(\n",
    "    ['СВ', 'Распределение', 'Параметры', '$m_i$', '$\\\\sigma_i^2$', '$n_i$'],\n",
    "    [\n",
    "        ['X1', 'N', '$m=0.0, \\\\sigma=1.0$', X1.mean(), X1.var(), n1],\n",
    "        ['X2', 'N', '$m=0.1, \\\\sigma=1.1$', X2.mean(), X2.var(), n2],\n",
    "        ['X3', 'N', '$m=-0.3, \\\\sigma=0.9$', X3.mean(), X3.var(), n3]\n",
    "    ]\n",
    ")\n",
    "printf('Количество случайных величин $k={}$', 3)\n",
    "    "
   ]
  },
  {
   "cell_type": "code",
   "execution_count": 42,
   "metadata": {},
   "outputs": [
    {
     "name": "stdout",
     "output_type": "stream",
     "text": [
      "Выборочные характеристики:\n"
     ]
    },
    {
     "data": {
      "text/html": [
       "<table width=\"100%\">\n",
       "    <thead><tr><td>СВ</td><td>Среднее $\\overline{x_i}$</td><td>$s^2_i$</td><td>$s_i$</td></tr></thead>\n",
       "    <tbody><tr><td>x1</td><td>-0.0146</td><td>0.8012</td><td>0.8951</td></tr><tr><td>x2</td><td>0.0003</td><td>1.0764</td><td>1.0375</td></tr><tr><td>x3</td><td>-0.1252</td><td>0.77</td><td>0.8775</td></tr><tr><td>Pooled</td><td>-0.0448</td><td>0.9125</td><td>0.9553</td></tr></tbody>\n",
       "    </table>"
      ],
      "text/plain": [
       "<IPython.core.display.HTML object>"
      ]
     },
     "metadata": {},
     "output_type": "display_data"
    }
   ],
   "source": [
    "x1 = Sample.from_distribution(\"x1\", X1, count=n1)\n",
    "x2 = Sample.from_distribution(\"x2\", X2, count=n2)\n",
    "x3 = Sample.from_distribution(\"x3\", X3, count=n3)\n",
    "\n",
    "x_pooled = PooledSample(\"Pooled\", x1, x2, x3)\n",
    "\n",
    "print('Выборочные характеристики:')\n",
    "table(\n",
    "    ['СВ', 'Среднее $\\\\overline{x_i}$', '$s^2_i$', '$s_i$'],\n",
    "    [\n",
    "        [\n",
    "            s._name,\n",
    "            round(s.mean(), 4),\n",
    "            round(s.s() ** 2, 4),\n",
    "            round(s.s(), 4)\n",
    "        ] for s in [x1, x2, x3, x_pooled]\n",
    "    ]\n",
    ")"
   ]
  },
  {
   "cell_type": "markdown",
   "metadata": {},
   "source": [
    "## 2. Визуальное представление выборок\n",
    "\n",
    "Диаграммы *Box-and-Whisker*:"
   ]
  },
  {
   "cell_type": "code",
   "execution_count": 43,
   "metadata": {},
   "outputs": [
    {
     "data": {
      "image/png": "[encoded data removed]",
      "text/plain": [
       "<matplotlib.figure.Figure at 0x7facd9f93898>"
      ]
     },
     "metadata": {
      "needs_background": "light"
     },
     "output_type": "display_data"
    }
   ],
   "source": [
    "fig, ax = plt.subplots()\n",
    "\n",
    "ax.boxplot([x1.data(), x2.data(), x3.data()])\n",
    "ax.set_title('Выборки')\n",
    "\n",
    "plt.show()"
   ]
  },
  {
   "cell_type": "markdown",
   "metadata": {},
   "source": [
    "## 3. Проверка условия применимости дисперсионного анализа\n",
    "\n",
    "Статистическая гипотеза $H_0: \\sigma_1^2 = \\sigma_2^2 = \\sigma_3^2$"
   ]
  },
  {
   "cell_type": "code",
   "execution_count": 55,
   "metadata": {},
   "outputs": [
    {
     "name": "stdout",
     "output_type": "stream",
     "text": [
      "Критерий Бартлетта\n"
     ]
    },
    {
     "data": {
      "text/html": [
       "<table width=\"100%\">\n",
       "    <thead><tr><td>Выборочное значение статистики критерия</td><td>p-value</td><td>Статистическое решение при $\\alpha=0.05$</td><td>Ошибка статистического решения</td></tr></thead>\n",
       "    <tbody><tr><td>5.6829</td><td>0.0583</td><td>H0</td><td>TODO</td></tr></tbody>\n",
       "    </table>"
      ],
      "text/plain": [
       "<IPython.core.display.HTML object>"
      ]
     },
     "metadata": {},
     "output_type": "display_data"
    }
   ],
   "source": [
    "print('Критерий Бартлетта')\n",
    "\n",
    "alpha = 0.05\n",
    "\n",
    "H0 = BartlettHyp(x_pooled)\n",
    "criterion_value, interval, p_value, result = H0.full_test(x_pooled, alpha)\n",
    "\n",
    "table(\n",
    "    [\n",
    "        'Выборочное значение статистики критерия',\n",
    "        'p-value',\n",
    "        'Статистическое решение при $\\\\alpha={}$'.format(alpha),\n",
    "        'Ошибка статистического решения'\n",
    "    ],\n",
    "    [[\n",
    "        round(criterion_value, 4),\n",
    "        round(p_value, 4),\n",
    "        'H0' if result else 'H1',\n",
    "        'TODO'\n",
    "    ]]\n",
    ")"
   ]
  },
  {
   "cell_type": "markdown",
   "metadata": {},
   "source": [
    "## 4. Однофакторный дисперсионный анализ"
   ]
  },
  {
   "cell_type": "code",
   "execution_count": 29,
   "metadata": {},
   "outputs": [
    {
     "name": "stdout",
     "output_type": "stream",
     "text": [
      "Таблица дисперсионного анализа\n"
     ]
    },
    {
     "data": {
      "text/html": [
       "<table width=\"100%\">\n",
       "    <thead><tr><td>Источник вариации</td><td>Показатель вариации</td><td>Число степеней свободы</td><td>Несмещённая оценка</td></tr></thead>\n",
       "    <tbody><tr><td>Группировочный признак</td><td></td><td></td><td></td></tr><tr><td>Остаточные признаки</td><td></td><td></td><td></td></tr><tr><td>Все признаки</td><td></td><td></td><td></td></tr></tbody>\n",
       "    </table>"
      ],
      "text/plain": [
       "<IPython.core.display.HTML object>"
      ]
     },
     "metadata": {},
     "output_type": "display_data"
    },
    {
     "data": {
      "text/html": [
       "<p>Эмпирический коэффициент детерминации $\\eta^2 = 0.0054$</p>"
      ],
      "text/plain": [
       "<IPython.core.display.HTML object>"
      ]
     },
     "metadata": {},
     "output_type": "display_data"
    },
    {
     "data": {
      "text/html": [
       "<p>Эмпирическое корреляционное отношение $\\eta = 0.0738$</p>"
      ],
      "text/plain": [
       "<IPython.core.display.HTML object>"
      ]
     },
     "metadata": {},
     "output_type": "display_data"
    }
   ],
   "source": [
    "print('Таблица дисперсионного анализа')\n",
    "\n",
    "# http://datalearning.ru/index.php/textbook?cid=1&mid=5&topic=2, таблица 6.4\n",
    "table(\n",
    "    ['Источник вариации', 'Показатель вариации', 'Число степеней свободы', 'Несмещённая оценка'],\n",
    "    [\n",
    "        ['Группировочный признак', '', '', ''],\n",
    "        ['Остаточные признаки', '', '', ''],\n",
    "        ['Все признаки', '', '', '']\n",
    "    ]\n",
    ")\n",
    "\n",
    "eta2 = x_pooled.eta_squared()\n",
    "printf('Эмпирический коэффициент детерминации $\\\\eta^2 = {}$', round(eta2, 4))\n",
    "printf('Эмпирическое корреляционное отношение $\\\\eta = {}$', round(np.sqrt(eta2), 4))"
   ]
  },
  {
   "cell_type": "markdown",
   "metadata": {},
   "source": [
    "Статистическая гипотеза $H_0: m_1 = m_2 = m_3$"
   ]
  },
  {
   "cell_type": "code",
   "execution_count": 35,
   "metadata": {},
   "outputs": [
    {
     "data": {
      "text/html": [
       "<table width=\"100%\">\n",
       "    <thead><tr><td>Выборочное значение статистики критерия</td><td>p-value</td><td>Статистическое решение при $\\alpha=0.05$</td><td>Ошибка статистического решения</td></tr></thead>\n",
       "    <tbody><tr><td>4.2893</td><td>0.0143</td><td>H1</td><td>TODO</td></tr></tbody>\n",
       "    </table>"
      ],
      "text/plain": [
       "<IPython.core.display.HTML object>"
      ]
     },
     "metadata": {},
     "output_type": "display_data"
    }
   ],
   "source": [
    "alpha = 0.05\n",
    "\n",
    "anova = OneWayAnovaHyp(x_pooled)\n",
    "criterion_value, (crit_left, crit_right), p_value, result = anova.full_test(x_pooled, alpha)\n",
    "\n",
    "table(\n",
    "    [\n",
    "        'Выборочное значение статистики критерия',\n",
    "        'p-value',\n",
    "        'Статистическое решение при $\\\\alpha={}$'.format(alpha),\n",
    "        'Ошибка статистического решения'\n",
    "    ],\n",
    "    [[\n",
    "        round(criterion_value, 4),\n",
    "        round(p_value, 4),\n",
    "        'H0' if result else 'H1',\n",
    "        'TODO'\n",
    "    ]]\n",
    ")\n"
   ]
  },
  {
   "cell_type": "markdown",
   "metadata": {},
   "source": [
    "## 5. Метод линейных контрастов"
   ]
  },
  {
   "cell_type": "code",
   "execution_count": 53,
   "metadata": {},
   "outputs": [
    {
     "data": {
      "image/png": "[encoded data removed]",
      "text/plain": [
       "<matplotlib.figure.Figure at 0x7facda0179b0>"
      ]
     },
     "metadata": {
      "needs_background": "light"
     },
     "output_type": "display_data"
    },
    {
     "name": "stdout",
     "output_type": "stream",
     "text": [
      "-0.0524255939271 0.0225566655633\n"
     ]
    },
    {
     "data": {
      "text/html": [
       "<table width=\"100%\">\n",
       "    <thead><tr><td>Гипотеза</td><td>Выборочное значение статистики критерия</td><td>p-value</td><td>Статистическое решение при $\\alpha=0.05$</td><td>Ошибка статистического решения</td></tr></thead>\n",
       "    <tbody><tr><td>$m_1=m_2$</td><td>-0.0149</td><td>0.0</td><td>$=$</td><td>TODO</td></tr><tr><td>$m_2=m_3$</td><td></td><td></td><td></td><td></td></tr><tr><td>$m_1=m_3$</td><td></td><td></td><td></td><td></td></tr></tbody>\n",
       "    </table>"
      ],
      "text/plain": [
       "<IPython.core.display.HTML object>"
      ]
     },
     "metadata": {},
     "output_type": "display_data"
    }
   ],
   "source": [
    "alpha = 0.05\n",
    "\n",
    "def m_interval(sample):\n",
    "    n = sample.n()\n",
    "    delta = stats.t(n - 1).ppf(1 - alpha / 2) * sample.s() / np.sqrt(n)\n",
    "    mean = sample.mean()\n",
    "    return mean - delta, mean + delta\n",
    "    \n",
    "fig, ax = plt.subplots()\n",
    "ax.set_title('Доверительные интервалы для $m_{1..k}$')\n",
    "\n",
    "samples = [x1, x2, x3]\n",
    "for i in range(len(samples)):\n",
    "    l, r = m_interval(samples[i])\n",
    "    domain = [l, r]\n",
    "    values = [i + 1, i + 1]\n",
    "    ax.plot(\n",
    "        domain,\n",
    "        values,\n",
    "        label='$m_{} \\\\in [{}; {}]$'.format(i + 1, round(l, 3), round(r, 3)),\n",
    "        linewidth=4\n",
    "    )\n",
    "    ax.fill_between(domain, 0, values, alpha=.2)\n",
    "\n",
    "plt.legend()\n",
    "plt.show()\n",
    "\n",
    "# TODO: вынести в функцию и сделать для всех комбинаций\n",
    "H0 = LinearContrastHyp(x_pooled)\n",
    "c, (c_1, c_2), p_value, result = H0.full_test([1, -1, 0], alpha=alpha)\n",
    "print(c_1, c_2)\n",
    "\n",
    "table(\n",
    "    [\n",
    "        'Гипотеза',\n",
    "        'Выборочное значение статистики критерия',\n",
    "        'p-value',\n",
    "        'Статистическое решение при $\\\\alpha={}$'.format(alpha),\n",
    "        'Ошибка статистического решения'\n",
    "    ],\n",
    "    [\n",
    "        ['$m_1=m_2$', round(c, 4), round(p_value, 4), '$=$' if result else '$\\\\ne$', 'TODO'],\n",
    "        ['$m_2=m_3$', '', '', '', ''],\n",
    "        ['$m_1=m_3$', '', '', '', '']\n",
    "    ]\n",
    ")"
   ]
  }
 ],
 "metadata": {
  "kernelspec": {
   "display_name": "Python 3",
   "language": "python",
   "name": "python3"
  },
  "language_info": {
   "codemirror_mode": {
    "name": "ipython",
    "version": 3
   },
   "file_extension": ".py",
   "mimetype": "text/x-python",
   "name": "python",
   "nbconvert_exporter": "python",
   "pygments_lexer": "ipython3",
   "version": "3.5.2"
  }
 },
 "nbformat": 4,
 "nbformat_minor": 2
}
