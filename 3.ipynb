{
 "cells": [
  {
   "cell_type": "markdown",
   "metadata": {},
   "source": [
    "# Лабораторная работа №3. Однофакторный дисперсионный анализ\n",
    "\n",
    "> Вариант № 4\n",
    "\n",
    "**Распределения**:\n",
    "\n",
    "$X_1$ ~ R(5,15) (объём выборки $n_1$ &mdash; 100)\n",
    "\n",
    "$X_2$ ~ N(10,5) (объём выборки $n_2$ &mdash; 100)\n",
    "\n",
    "$X_3$ ~ N(10,2) (объём выборки $n_3$ &mdash; 100)\n",
    "\n",
    "$X_4$ ~ N(10,5) (объём выборки $n_4$ &mdash; 100)"
   ]
  },
  {
   "cell_type": "code",
   "execution_count": 20,
   "metadata": {},
   "outputs": [],
   "source": [
    "%matplotlib inline\n",
    "import numpy as np\n",
    "from scipy import stats\n",
    "import matplotlib.pyplot as plt\n",
    "from statsmodels.distributions.empirical_distribution import ECDF\n",
    "\n",
    "# Немного магии для того, чтобы рисунки стали больше\n",
    "import pylab\n",
    "pylab.rcParams['figure.figsize'] = (24.0, 16.0)\n",
    "plt.rcParams.update({'font.size': 22})\n",
    "\n",
    "# Вспомогательные классы и функции, определённые тут же (см. репозиторий)\n",
    "# https://github.com/BobNobrain/matstat-labs/tree/master/s\n",
    "from s import Sample, PooledSample, BartlettHyp, OneWayAnovaHyp, LinearContrastHyp\n",
    "from s.utils import table, printf"
   ]
  },
  {
   "cell_type": "markdown",
   "metadata": {},
   "source": [
    "## 1. Исходные данные"
   ]
  },
  {
   "cell_type": "code",
   "execution_count": 21,
   "metadata": {},
   "outputs": [
    {
     "name": "stdout",
     "output_type": "stream",
     "text": [
      "Характеристики наблюдаемых случайных величин:\n"
     ]
    },
    {
     "data": {
      "text/html": [
       "<table width=\"100%\" class=\"htable\">\n",
       "    <thead><tr><th>СВ</th><th>Распределение</th><th>Параметры</th><th>$m_i$</th><th>$\\sigma_i^2$</th><th>$n_i$</th></tr></thead>\n",
       "    <tbody><tr><td>X1</td><td>R</td><td>$a=5, b=15$</td><td>10.0</td><td>8.333333333333332</td><td>100</td></tr><tr><td>X2</td><td>N</td><td>$m=10, \\sigma^2=5$</td><td>10.0</td><td>5.0</td><td>100</td></tr><tr><td>X3</td><td>N</td><td>$m=10, \\sigma^2=2$</td><td>10.0</td><td>2.0</td><td>100</td></tr><tr><td>X4</td><td>N</td><td>$m=10, \\sigma^2=5$</td><td>10.0</td><td>5.0</td><td>100</td></tr></tbody>\n",
       "    </table>"
      ],
      "text/plain": [
       "<IPython.core.display.HTML object>"
      ]
     },
     "metadata": {},
     "output_type": "display_data"
    },
    {
     "data": {
      "text/html": [
       "<p>Количество случайных величин $k=4$</p>"
      ],
      "text/plain": [
       "<IPython.core.display.HTML object>"
      ]
     },
     "metadata": {},
     "output_type": "display_data"
    }
   ],
   "source": [
    "X1 = stats.uniform(5,10)\n",
    "X2 = stats.norm(10,np.sqrt(5))\n",
    "X3 = stats.norm(10,np.sqrt(2))\n",
    "X4 = stats.norm(10,np.sqrt(5))\n",
    "\n",
    "n1 = 100\n",
    "n2 = 100\n",
    "n3 = 100\n",
    "n4 = 100\n",
    "n = n1 + n2 + n3 + n4\n",
    "\n",
    "print('Характеристики наблюдаемых случайных величин:')\n",
    "table(\n",
    "    ['СВ', 'Распределение', 'Параметры', '$m_i$', '$\\\\sigma_i^2$', '$n_i$'],\n",
    "    [\n",
    "        ['X1', 'R', '$a=5, b=15$', X1.mean(), X1.var(), n1],\n",
    "        ['X2', 'N', '$m=10, \\\\sigma^2=5$', X2.mean(), round(X2.var(), 4), n2],\n",
    "        ['X3', 'N', '$m=10, \\\\sigma^2=2$', X3.mean(), round(X3.var(), 4), n3],\n",
    "        ['X4', 'N', '$m=10, \\\\sigma^2=5$', X4.mean(), round(X4.var(), 4), n4]\n",
    "    ]\n",
    ")\n",
    "printf('Количество случайных величин $k={}$', 4)\n",
    "    "
   ]
  },
  {
   "cell_type": "code",
   "execution_count": 22,
   "metadata": {},
   "outputs": [
    {
     "name": "stdout",
     "output_type": "stream",
     "text": [
      "Выборочные характеристики:\n"
     ]
    },
    {
     "data": {
      "text/html": [
       "<table width=\"100%\" class=\"htable\">\n",
       "    <thead><tr><th>СВ</th><th>Среднее $\\overline{x_i}$</th><th>$s^2_i$</th><th>$s_i$</th></tr></thead>\n",
       "    <tbody><tr><td>x1</td><td>9.8325</td><td>8.9043</td><td>2.984</td></tr><tr><td>x2</td><td>9.9572</td><td>4.6058</td><td>2.1461</td></tr><tr><td>x3</td><td>10.1759</td><td>1.9127</td><td>1.383</td></tr><tr><td>x4</td><td>10.0759</td><td>5.7652</td><td>2.4011</td></tr><tr><td>Pooled</td><td>10.0104</td><td>5.2737</td><td>2.2965</td></tr></tbody>\n",
       "    </table>"
      ],
      "text/plain": [
       "<IPython.core.display.HTML object>"
      ]
     },
     "metadata": {},
     "output_type": "display_data"
    }
   ],
   "source": [
    "x1 = Sample.from_distribution(\"x1\", X1, count=n1)\n",
    "x2 = Sample.from_distribution(\"x2\", X2, count=n2)\n",
    "x3 = Sample.from_distribution(\"x3\", X3, count=n3)\n",
    "x4 = Sample.from_distribution(\"x4\", X4, count=n4)\n",
    "\n",
    "x_pooled = PooledSample(\"Pooled\", x1, x2, x3, x4)\n",
    "\n",
    "print('Выборочные характеристики:')\n",
    "table(\n",
    "    ['СВ', 'Среднее $\\\\overline{x_i}$', '$s^2_i$', '$s_i$'],\n",
    "    [\n",
    "        [\n",
    "            s._name,\n",
    "            round(s.mean(), 4),\n",
    "            round(s.s() ** 2, 4),\n",
    "            round(s.s(), 4)\n",
    "        ] for s in [x1, x2, x3, x4, x_pooled]\n",
    "    ]\n",
    ")"
   ]
  },
  {
   "cell_type": "markdown",
   "metadata": {},
   "source": [
    "## 2. Визуальное представление выборок\n",
    "\n",
    "Диаграммы *Box-and-Whisker*:"
   ]
  },
  {
   "cell_type": "code",
   "execution_count": 23,
   "metadata": {},
   "outputs": [
    {
     "data": {
      "image/png": "[encoded data removed]",
      "text/plain": [
       "<Figure size 1728x1152 with 1 Axes>"
      ]
     },
     "metadata": {
      "needs_background": "light"
     },
     "output_type": "display_data"
    }
   ],
   "source": [
    "fig, ax = plt.subplots()\n",
    "\n",
    "ax.boxplot([x1.data(), x2.data(), x3.data(), x4.data()])\n",
    "ax.set_title('Выборки')\n",
    "\n",
    "plt.show()"
   ]
  },
  {
   "cell_type": "markdown",
   "metadata": {},
   "source": [
    "## 3. Проверка условия применимости дисперсионного анализа\n",
    "\n",
    "Статистическая гипотеза $H_0: \\sigma_1^2 = \\sigma_2^2 = \\sigma_3^2 = \\sigma_4^2$"
   ]
  },
  {
   "cell_type": "code",
   "execution_count": 24,
   "metadata": {},
   "outputs": [
    {
     "name": "stdout",
     "output_type": "stream",
     "text": [
      "Критерий Бартлетта\n"
     ]
    },
    {
     "data": {
      "text/html": [
       "<table width=\"100%\" class=\"htable\">\n",
       "    <thead><tr><th>Выборочное значение статистики критерия</th><th>p-value</th><th>Статистическое решение при $\\alpha=0.05$</th><th>Ошибка статистического решения</th></tr></thead>\n",
       "    <tbody><tr><td>54.6519</td><td>0.0</td><td>H1</td><td>-</td></tr></tbody>\n",
       "    </table>"
      ],
      "text/plain": [
       "<IPython.core.display.HTML object>"
      ]
     },
     "metadata": {},
     "output_type": "display_data"
    }
   ],
   "source": [
    "print('Критерий Бартлетта')\n",
    "\n",
    "alpha = 0.05\n",
    "\n",
    "H0 = BartlettHyp(x_pooled)\n",
    "criterion_value, interval, p_value, result = H0.full_test(x_pooled, alpha)\n",
    "\n",
    "table(\n",
    "    [\n",
    "        'Выборочное значение статистики критерия',\n",
    "        'p-value',\n",
    "        'Статистическое решение при $\\\\alpha={}$'.format(alpha),\n",
    "        'Ошибка статистического решения'\n",
    "    ],\n",
    "    [[\n",
    "        round(criterion_value, 4),\n",
    "        round(p_value, 4),\n",
    "        'H0' if result else 'H1',\n",
    "        'Ошибка второго рода' if result else '-'\n",
    "    ]]\n",
    ")"
   ]
  },
  {
   "cell_type": "markdown",
   "metadata": {},
   "source": [
    "## 4. Однофакторный дисперсионный анализ"
   ]
  },
  {
   "cell_type": "code",
   "execution_count": 25,
   "metadata": {},
   "outputs": [
    {
     "name": "stdout",
     "output_type": "stream",
     "text": [
      "Таблица дисперсионного анализа\n"
     ]
    },
    {
     "data": {
      "text/html": [
       "<table width=\"100%\" class=\"htable\">\n",
       "    <thead><tr><th>Источник вариации</th><th>Показатель вариации</th><th>Число степеней свободы</th><th>Несмещённая оценка</th></tr></thead>\n",
       "    <tbody><tr><td>Группировочный признак</td><td>0.01653473134761087</td><td>3</td><td>2.2046308463481163</td></tr><tr><td>Остаточные признаки</td><td>5.244004601783706</td><td>396</td><td>5.296974345236067</td></tr><tr><td>Все признаки</td><td>5.260539333131317</td><td>399</td><td>5.2737236422369085</td></tr></tbody>\n",
       "    </table>"
      ],
      "text/plain": [
       "<IPython.core.display.HTML object>"
      ]
     },
     "metadata": {},
     "output_type": "display_data"
    },
    {
     "data": {
      "text/html": [
       "<p>Эмпирический коэффициент детерминации $\\eta^2 = 0.0031$</p>"
      ],
      "text/plain": [
       "<IPython.core.display.HTML object>"
      ]
     },
     "metadata": {},
     "output_type": "display_data"
    },
    {
     "data": {
      "text/html": [
       "<p>Эмпирическое корреляционное отношение $\\eta = 0.0561$</p>"
      ],
      "text/plain": [
       "<IPython.core.display.HTML object>"
      ]
     },
     "metadata": {},
     "output_type": "display_data"
    }
   ],
   "source": [
    "K = 4\n",
    "print('Таблица дисперсионного анализа')\n",
    "# http://datalearning.ru/index.php/textbook?cid=1&mid=5&topic=2, таблица 6.4\n",
    "Db = x_pooled.between_group_var()\n",
    "Dw = x_pooled.within_group_var()\n",
    "Dx = x_pooled.var()\n",
    "table(\n",
    "    ['Источник вариации', 'Показатель вариации', 'Число степеней свободы', 'Несмещённая оценка'],\n",
    "    [\n",
    "        ['Группировочный признак', Db, K-1, n/(K-1)*Db],\n",
    "        ['Остаточные признаки', Dw, n-K, n/(n-K)*Dw],\n",
    "        ['Все признаки', Dx, n-1, n/(n-1)*Dx]\n",
    "    ]\n",
    ")\n",
    "\n",
    "eta2 = x_pooled.eta_squared()\n",
    "printf('Эмпирический коэффициент детерминации $\\\\eta^2 = {}$', round(eta2, 4))\n",
    "printf('Эмпирическое корреляционное отношение $\\\\eta = {}$', round(np.sqrt(eta2), 4))"
   ]
  },
  {
   "cell_type": "markdown",
   "metadata": {},
   "source": [
    "Статистическая гипотеза $H_0: m_1 = m_2 = m_3 = m_4$"
   ]
  },
  {
   "cell_type": "code",
   "execution_count": 26,
   "metadata": {},
   "outputs": [
    {
     "data": {
      "text/html": [
       "<table width=\"100%\" class=\"htable\">\n",
       "    <thead><tr><th>Выборочное значение статистики критерия</th><th>p-value</th><th>Статистическое решение при $\\alpha=0.05$</th><th>Ошибка статистического решения</th></tr></thead>\n",
       "    <tbody><tr><td>0.4162</td><td>0.7415</td><td>H0</td><td>-</td></tr></tbody>\n",
       "    </table>"
      ],
      "text/plain": [
       "<IPython.core.display.HTML object>"
      ]
     },
     "metadata": {},
     "output_type": "display_data"
    }
   ],
   "source": [
    "alpha = 0.05\n",
    "\n",
    "anova = OneWayAnovaHyp(x_pooled)\n",
    "criterion_value, (crit_left, crit_right), p_value, result = anova.full_test(x_pooled, alpha)\n",
    "\n",
    "table(\n",
    "    [\n",
    "        'Выборочное значение статистики критерия',\n",
    "        'p-value',\n",
    "        'Статистическое решение при $\\\\alpha={}$'.format(alpha),\n",
    "        'Ошибка статистического решения'\n",
    "    ],\n",
    "    [[\n",
    "        round(criterion_value, 4),\n",
    "        round(p_value, 4),\n",
    "        'H0' if result else 'H1',\n",
    "        'Ошибка 1-го рода' if not result else '-',\n",
    "    ]]\n",
    ")\n"
   ]
  },
  {
   "cell_type": "markdown",
   "metadata": {},
   "source": [
    "## 5. Метод линейных контрастов"
   ]
  },
  {
   "cell_type": "code",
   "execution_count": 27,
   "metadata": {},
   "outputs": [
    {
     "data": {
      "image/png": "[encoded data removed]",
      "text/plain": [
       "<Figure size 1728x1152 with 1 Axes>"
      ]
     },
     "metadata": {
      "needs_background": "light"
     },
     "output_type": "display_data"
    },
    {
     "data": {
      "text/html": [
       "<table width=\"100%\" class=\"htable\">\n",
       "    <thead><tr><th>Гипотеза</th><th>Выборочное значение статистики критерия</th><th>p-value</th><th>Статистическое решение при $\\alpha=0.05$</th><th>Ошибка статистического решения</th></tr></thead>\n",
       "    <tbody><tr><td>$m_1=m_2$</td><td>0.1247</td><td>0.1091</td><td>$=$</td><td>-</td></tr><tr><td>$m_1=m_3$</td><td>0.3434</td><td>0.412</td><td>$\\ne$</td><td>Ошибка первого рода</td></tr><tr><td>$m_1=m_4$</td><td>0.3434</td><td>0.412</td><td>$\\ne$</td><td>Ошибка первого рода</td></tr><tr><td>$m_2=m_3$</td><td>-0.2186</td><td>0.0</td><td>$\\ne$</td><td>Ошибка первого рода</td></tr><tr><td>$m_2=m_4$</td><td>-0.1186</td><td>0.0</td><td>$=$</td><td>-</td></tr><tr><td>$m_3=m_4$</td><td>0.1</td><td>0.08</td><td>$=$</td><td>-</td></tr></tbody>\n",
       "    </table>"
      ],
      "text/plain": [
       "<IPython.core.display.HTML object>"
      ]
     },
     "metadata": {},
     "output_type": "display_data"
    }
   ],
   "source": [
    "alpha = 0.05\n",
    "\n",
    "def m_interval(sample):\n",
    "    n = sample.n()\n",
    "    delta = stats.t(n - 1).ppf(1 - alpha / 2) * sample.s() / np.sqrt(n)\n",
    "    mean = sample.mean()\n",
    "    return mean - delta, mean + delta\n",
    "    \n",
    "fig, ax = plt.subplots()\n",
    "ax.set_title('Доверительные интервалы для $m_{1..k}$')\n",
    "\n",
    "samples = [x1, x2, x3, x4]\n",
    "for i in range(len(samples)):\n",
    "    l, r = m_interval(samples[i])\n",
    "    domain = [l, r]\n",
    "    values = [i + 1, i + 1]\n",
    "    ax.plot(\n",
    "        domain,\n",
    "        values,\n",
    "        label='$m_{} \\\\in [{}; {}]$'.format(i + 1, round(l, 3), round(r, 3)),\n",
    "        linewidth=4\n",
    "    )\n",
    "    ax.fill_between(domain, 0, values, alpha=.2)\n",
    "\n",
    "plt.legend()\n",
    "plt.show()\n",
    "\n",
    "H0 = LinearContrastHyp(x_pooled)\n",
    "def table_row(Hypo, coeffs, expected):\n",
    "    c, (c_1, c_2), p_value, result = H0.full_test(coeffs, alpha=alpha)\n",
    "    decision = '$=$' if result else '$\\\\ne$'\n",
    "    err = \"-\" if expected == decision else (\"Ошибка первого рода\" if expected == '$=$' else \"Ошибка второго рода\")\n",
    "    \n",
    "    return Hypo, round(c,4), round(p_value, 4), decision, err\n",
    "\n",
    "table(\n",
    "    [\n",
    "        'Гипотеза',\n",
    "        'Выборочное значение статистики критерия',\n",
    "        'p-value',\n",
    "        'Статистическое решение при $\\\\alpha={}$'.format(alpha),\n",
    "        'Ошибка статистического решения'\n",
    "    ],\n",
    "    [\n",
    "        table_row('$m_1=m_2$', [-1, 1, 0, 0], '$=$'),\n",
    "        table_row('$m_1=m_3$', [-1, 0, 1, 0], '$=$'),\n",
    "        table_row('$m_1=m_4$', [-1, 0, 1, 0], '$=$'),\n",
    "        table_row('$m_2=m_3$', [0, 1, -1, 0], '$=$'),\n",
    "        table_row('$m_2=m_4$', [0, 1, 0, -1], '$=$'),\n",
    "        table_row('$m_3=m_4$', [0, 0, 1, -1], '$=$'),\n",
    "    ]\n",
    ")"
   ]
  },
  {
   "cell_type": "code",
   "execution_count": null,
   "metadata": {},
   "outputs": [],
   "source": []
  },
  {
   "cell_type": "code",
   "execution_count": null,
   "metadata": {},
   "outputs": [],
   "source": []
  }
 ],
 "metadata": {
  "kernelspec": {
   "display_name": "Python 3",
   "language": "python",
   "name": "python3"
  },
  "language_info": {
   "codemirror_mode": {
    "name": "ipython",
    "version": 3
   },
   "file_extension": ".py",
   "mimetype": "text/x-python",
   "name": "python",
   "nbconvert_exporter": "python",
   "pygments_lexer": "ipython3",
   "version": "3.6.6"
  }
 },
 "nbformat": 4,
 "nbformat_minor": 2
}
