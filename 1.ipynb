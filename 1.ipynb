{
 "cells": [
  {
   "cell_type": "markdown",
   "metadata": {},
   "source": [
    "# Лабораторная №1. Проверка статистических гипотез\n",
    "\n",
    "> Вариант № ??\n",
    "\n",
    "**Распределения**:\n",
    "\n",
    "$X_1$ ~ ?? (объём выборки $n_1$ = ??)\n",
    "\n",
    "$X_2$ ~ ?? (объём выборки $n_2$ = ??)\n"
   ]
  },
  {
   "cell_type": "markdown",
   "metadata": {},
   "source": [
    "*Импорт необходимых библиотек:*"
   ]
  },
  {
   "cell_type": "code",
   "execution_count": 1,
   "metadata": {},
   "outputs": [],
   "source": [
    "%matplotlib inline\n",
    "import numpy as np\n",
    "from scipy import stats\n",
    "import matplotlib.pyplot as plt"
   ]
  },
  {
   "cell_type": "markdown",
   "metadata": {},
   "source": [
    "## Генерация выборок\n",
    "\n",
    "`x = np.random.<`*`distribution`*`>(`*`...params`*`, `*`size`*`)`, где\n",
    "\n",
    "- *distribution* - распределение;\n",
    "- *...params* - параметры распределения;\n",
    "- *size* - размер выборки\n",
    "\n",
    "Доступные распределения:\n",
    "\n",
    "- нормальное: normal(m, $\\sigma^2$)\n",
    "- равномерное: uniform(a, b)\n",
    "- хи-квадрат: chisquare(k)\n"
   ]
  },
  {
   "cell_type": "code",
   "execution_count": 2,
   "metadata": {},
   "outputs": [],
   "source": [
    "# Sample sizes\n",
    "n1 = 100\n",
    "n2 = 100\n",
    "\n",
    "# Sample generators\n",
    "def gen_x1():\n",
    "    return np.random.chisquare(3, n1)\n",
    "\n",
    "def gen_x2():\n",
    "    return np.random.normal(0, 2, n2)\n",
    "\n",
    "# Samples\n",
    "x1, x2 = gen_x1(), gen_x2()"
   ]
  },
  {
   "cell_type": "markdown",
   "metadata": {},
   "source": [
    "### 1. Выборочные характеристики"
   ]
  },
  {
   "cell_type": "code",
   "execution_count": 3,
   "metadata": {},
   "outputs": [
    {
     "name": "stdout",
     "output_type": "stream",
     "text": [
      "3.09737477374\n",
      "1.97388170168\n",
      "3.89620897221\n"
     ]
    }
   ],
   "source": [
    "print(np.mean(x1))\n",
    "print(np.std(x2))\n",
    "print(np.var(x2))"
   ]
  },
  {
   "cell_type": "markdown",
   "metadata": {},
   "source": [
    "- `np.mean` - среднее значение\n",
    "- `np.std` - $s$ - оценка с.к.о.\n",
    "- `np.var` - $s^2$ - оценка дисперсии"
   ]
  },
  {
   "cell_type": "markdown",
   "metadata": {},
   "source": [
    "### 2. Однопараметрические критерии"
   ]
  },
  {
   "cell_type": "markdown",
   "metadata": {},
   "source": [
    "Для получения свойств стандартных распределений используем модуль `stats`:\n",
    "\n",
    "- для нормального распределения `stats.norm`;\n",
    "- для Стьюдента `stats.t`;\n",
    "- для хи-квадрат `stats.chi2`.\n",
    "\n",
    "Квантиль распределения: `stats.<distribution>.ppf(<уровень значимости>, ...<параметры распределения>)`\n",
    "\n",
    "Функция распределения: F(x) = `stats.<distribution>.cdf(x, ...<параметры распределения>)`\n",
    "\n",
    "Функция плотности вероятности: f(x) = `stats.<distribution>.pdf(x, ...<параметры распределения>)`"
   ]
  },
  {
   "cell_type": "markdown",
   "metadata": {},
   "source": [
    "Проверим гипотезу $H_0: X_2 \\sim N(m_0 = 0.2, \\sigma^2)$ на уровне значимости $\\alpha = .05$ при альтернативной двусторонней гипотезе ($\\sigma$ считаем неизвестным):"
   ]
  },
  {
   "cell_type": "code",
   "execution_count": 22,
   "metadata": {},
   "outputs": [
    {
     "name": "stdout",
     "output_type": "stream",
     "text": [
      "Значение критерия: 0.8438608313755146, критическое значение: 1.9842169515086827\n",
      "Гипотеза H0 принимается\n"
     ]
    }
   ],
   "source": [
    "def criterion(sample):\n",
    "    s = np.std(sample) # s - оценка с.к.о.\n",
    "    mean = np.mean(sample) # выборочное среднее\n",
    "    m0 = 0.2 # основная гипотеза: МО генеральной совокупности для x2 составляет m0\n",
    "    return (mean - m0) / s * np.sqrt(len(sample))\n",
    "\n",
    "# t-test\n",
    "criterion_value = criterion(x2) # значение статистики критерия для гипотезы H0: m = m0, сигма неизвестна\n",
    "\n",
    "alpha = 0.05 # задаёмся уровнем значимости\n",
    "student_quantile = stats.t.ppf(1 - alpha / 2, n2 - 1) # рассчитываем квантиль распределения Стьюдента\n",
    "\n",
    "critical_value = student_quantile # критическое значение статистики критерия\n",
    "\n",
    "print(\"Значение критерия: {}, критическое значение: {}\".format(abs(criterion_value), critical_value))\n",
    "\n",
    "is_h0_true = abs(criterion_value) < critical_value\n",
    "\n",
    "print(\"Гипотеза H0 принимается\" if is_h0_true else \"Гипотеза H0 отклоняется\")"
   ]
  },
  {
   "cell_type": "markdown",
   "metadata": {},
   "source": [
    "### 3. P-value\n",
    "\n",
    "Рассчёт p-value для право-, лево- и двусторонней альтернативных гипотез:"
   ]
  },
  {
   "cell_type": "code",
   "execution_count": 23,
   "metadata": {},
   "outputs": [
    {
     "name": "stdout",
     "output_type": "stream",
     "text": [
      "Двустороннее p-value: 0.40078162503366477\n"
     ]
    }
   ],
   "source": [
    "# статистика критерия в предыдущем примере распределена как T(n2 - 1)\n",
    "def left_p_value(criterion_value, sample_size):\n",
    "    return stats.t.cdf(criterion_value, sample_size - 1)\n",
    "\n",
    "def right_p_value(criterion_value, sample_size):\n",
    "    return 1 - stats.t.cdf(criterion_value, sample_size - 1)\n",
    "\n",
    "def two_sided_p_value(criterion_value, sample_size):\n",
    "    left_p = left_p_value(criterion_value, sample_size)\n",
    "    return 2 * min(left_p, 1 - left_p)\n",
    "\n",
    "print(\"Двустороннее p-value: {}\".format(two_sided_p_value(criterion_value, n2)))"
   ]
  },
  {
   "cell_type": "markdown",
   "metadata": {},
   "source": [
    "Вычислим для выборки мощностью N выборочные значения для случайных величин p-value и значения статистики критерия:"
   ]
  },
  {
   "cell_type": "code",
   "execution_count": 24,
   "metadata": {},
   "outputs": [
    {
     "name": "stdout",
     "output_type": "stream",
     "text": [
      "Criterion:\n",
      "mean = -1.060360506933846, s^2 = 0.9960306208168027, s = 0.9980133369934505\n",
      "P-value:\n",
      "mean = 0.3575422024718267, s^2 = 0.08762960558998725, s = 0.29602298152337303\n"
     ]
    }
   ],
   "source": [
    "N = 500\n",
    "\n",
    "criteria = []\n",
    "p_values = []\n",
    "\n",
    "for i in range(0, N):\n",
    "    sample = gen_x2()\n",
    "    \n",
    "    criterion_value = criterion(sample)\n",
    "    criteria.append(criterion_value)\n",
    "    \n",
    "    p_value = two_sided_p_value(criterion_value, len(sample))\n",
    "    p_values.append(p_value)\n",
    "\n",
    "print(\"Criterion:\")\n",
    "print(\"mean = {}, s^2 = {}, s = {}\".format(np.mean(criteria), np.var(criteria), np.std(criteria)))\n",
    "\n",
    "print(\"P-value:\")\n",
    "print(\"mean = {}, s^2 = {}, s = {}\".format(np.mean(p_values), np.var(p_values), np.std(p_values)))"
   ]
  },
  {
   "cell_type": "markdown",
   "metadata": {},
   "source": [
    "**Графики** теоретических распределений и гистограммы эспериментальных значений:"
   ]
  },
  {
   "cell_type": "code",
   "execution_count": 25,
   "metadata": {},
   "outputs": [
    {
     "data": {
      "image/png": "[encoded data removed]",
      "text/plain": [
       "<matplotlib.figure.Figure at 0x7febbf89c400>"
      ]
     },
     "metadata": {
      "needs_background": "light"
     },
     "output_type": "display_data"
    }
   ],
   "source": [
    "fig, ax = plt.subplots()\n",
    "\n",
    "# histogram\n",
    "n, bins, patches = ax.hist(criteria, 20, normed=True)\n",
    "\n",
    "# plot\n",
    "x = np.linspace(stats.t.ppf(0.05, n2 - 1), stats.t.ppf(0.95, n2 - 1), 100)\n",
    "ax.plot(x, stats.t.pdf(x, n2 - 1), 'r-', lw=5, alpha=0.6, label='Theoretical')\n",
    "\n",
    "ax.set_title(\"Criteria distribution and histogram\")\n",
    "ax.set_ylabel(\"Probability density\")\n",
    "\n",
    "fig.tight_layout()\n",
    "plt.show()"
   ]
  },
  {
   "cell_type": "code",
   "execution_count": 26,
   "metadata": {},
   "outputs": [
    {
     "data": {
      "image/png": "[encoded data removed]",
      "text/plain": [
       "<matplotlib.figure.Figure at 0x7febbf60a7f0>"
      ]
     },
     "metadata": {
      "needs_background": "light"
     },
     "output_type": "display_data"
    }
   ],
   "source": [
    "fig, ax = plt.subplots()\n",
    "\n",
    "# histogram\n",
    "n, bins, patches = ax.hist(p_values, 20, normed=True)\n",
    "\n",
    "# plot\n",
    "x = np.linspace(stats.uniform.ppf(0.01), stats.uniform.ppf(0.99), 100)\n",
    "ax.plot(x, stats.uniform.pdf(x), 'r-', lw=5, alpha=0.6, label='Theoretical')\n",
    "\n",
    "ax.set_title(\"Criteria distribution and histogram\")\n",
    "ax.set_ylabel(\"Probability density\")\n",
    "\n",
    "fig.tight_layout()\n",
    "plt.show()"
   ]
  }
 ],
 "metadata": {
  "kernelspec": {
   "display_name": "Python 3",
   "language": "python",
   "name": "python3"
  },
  "language_info": {
   "codemirror_mode": {
    "name": "ipython",
    "version": 3
   },
   "file_extension": ".py",
   "mimetype": "text/x-python",
   "name": "python",
   "nbconvert_exporter": "python",
   "pygments_lexer": "ipython3",
   "version": "3.6.6"
  }
 },
 "nbformat": 4,
 "nbformat_minor": 2
}
