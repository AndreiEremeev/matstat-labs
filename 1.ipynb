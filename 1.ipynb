{
 "cells": [
  {
   "cell_type": "markdown",
   "metadata": {},
   "source": [
    "# Лабораторная №1. Проверка статистических гипотез\n",
    "\n",
    "> Вариант № ??\n",
    "\n",
    "**Распределения**:\n",
    "\n",
    "$X_1$ ~ ?? (объём выборки $n_1$ = ??)\n",
    "\n",
    "$X_2$ ~ ?? (объём выборки $n_2$ = ??)\n",
    "\n",
    "---\n"
   ]
  },
  {
   "cell_type": "markdown",
   "metadata": {},
   "source": [
    "*Импорт необходимых библиотек:*"
   ]
  },
  {
   "cell_type": "code",
   "execution_count": 1,
   "metadata": {},
   "outputs": [
    {
     "ename": "ImportError",
     "evalue": "No module named 'matplotlib'",
     "output_type": "error",
     "traceback": [
      "\u001b[0;31m---------------------------------------------------------------------------\u001b[0m",
      "\u001b[0;31mImportError\u001b[0m                               Traceback (most recent call last)",
      "\u001b[0;32m<ipython-input-1-1ae2fe133a6d>\u001b[0m in \u001b[0;36m<module>\u001b[0;34m\u001b[0m\n\u001b[0;32m----> 1\u001b[0;31m \u001b[0mget_ipython\u001b[0m\u001b[0;34m(\u001b[0m\u001b[0;34m)\u001b[0m\u001b[0;34m.\u001b[0m\u001b[0mrun_line_magic\u001b[0m\u001b[0;34m(\u001b[0m\u001b[0;34m'matplotlib'\u001b[0m\u001b[0;34m,\u001b[0m \u001b[0;34m'inline'\u001b[0m\u001b[0;34m)\u001b[0m\u001b[0;34m\u001b[0m\u001b[0m\n\u001b[0m\u001b[1;32m      2\u001b[0m \u001b[0;32mimport\u001b[0m \u001b[0mnumpy\u001b[0m \u001b[0;32mas\u001b[0m \u001b[0mnp\u001b[0m\u001b[0;34m\u001b[0m\u001b[0m\n\u001b[1;32m      3\u001b[0m \u001b[0;32mfrom\u001b[0m \u001b[0mscipy\u001b[0m \u001b[0;32mimport\u001b[0m \u001b[0mstats\u001b[0m\u001b[0;34m\u001b[0m\u001b[0m\n\u001b[1;32m      4\u001b[0m \u001b[0;32mimport\u001b[0m \u001b[0mmatplotlib\u001b[0m\u001b[0;34m.\u001b[0m\u001b[0mpyplot\u001b[0m \u001b[0;32mas\u001b[0m \u001b[0mplt\u001b[0m\u001b[0;34m\u001b[0m\u001b[0m\n",
      "\u001b[0;32m~/.local/share/virtualenvs/matstat-labs-9UMu__pe/lib/python3.5/site-packages/IPython/core/interactiveshell.py\u001b[0m in \u001b[0;36mrun_line_magic\u001b[0;34m(self, magic_name, line, _stack_depth)\u001b[0m\n\u001b[1;32m   2283\u001b[0m                 \u001b[0mkwargs\u001b[0m\u001b[0;34m[\u001b[0m\u001b[0;34m'local_ns'\u001b[0m\u001b[0;34m]\u001b[0m \u001b[0;34m=\u001b[0m \u001b[0msys\u001b[0m\u001b[0;34m.\u001b[0m\u001b[0m_getframe\u001b[0m\u001b[0;34m(\u001b[0m\u001b[0mstack_depth\u001b[0m\u001b[0;34m)\u001b[0m\u001b[0;34m.\u001b[0m\u001b[0mf_locals\u001b[0m\u001b[0;34m\u001b[0m\u001b[0m\n\u001b[1;32m   2284\u001b[0m             \u001b[0;32mwith\u001b[0m \u001b[0mself\u001b[0m\u001b[0;34m.\u001b[0m\u001b[0mbuiltin_trap\u001b[0m\u001b[0;34m:\u001b[0m\u001b[0;34m\u001b[0m\u001b[0m\n\u001b[0;32m-> 2285\u001b[0;31m                 \u001b[0mresult\u001b[0m \u001b[0;34m=\u001b[0m \u001b[0mfn\u001b[0m\u001b[0;34m(\u001b[0m\u001b[0;34m*\u001b[0m\u001b[0margs\u001b[0m\u001b[0;34m,\u001b[0m\u001b[0;34m**\u001b[0m\u001b[0mkwargs\u001b[0m\u001b[0;34m)\u001b[0m\u001b[0;34m\u001b[0m\u001b[0m\n\u001b[0m\u001b[1;32m   2286\u001b[0m             \u001b[0;32mreturn\u001b[0m \u001b[0mresult\u001b[0m\u001b[0;34m\u001b[0m\u001b[0m\n\u001b[1;32m   2287\u001b[0m \u001b[0;34m\u001b[0m\u001b[0m\n",
      "\u001b[0;32m<decorator-gen-107>\u001b[0m in \u001b[0;36mmatplotlib\u001b[0;34m(self, line)\u001b[0m\n",
      "\u001b[0;32m~/.local/share/virtualenvs/matstat-labs-9UMu__pe/lib/python3.5/site-packages/IPython/core/magic.py\u001b[0m in \u001b[0;36m<lambda>\u001b[0;34m(f, *a, **k)\u001b[0m\n\u001b[1;32m    185\u001b[0m     \u001b[0;31m# but it's overkill for just that one bit of state.\u001b[0m\u001b[0;34m\u001b[0m\u001b[0;34m\u001b[0m\u001b[0m\n\u001b[1;32m    186\u001b[0m     \u001b[0;32mdef\u001b[0m \u001b[0mmagic_deco\u001b[0m\u001b[0;34m(\u001b[0m\u001b[0marg\u001b[0m\u001b[0;34m)\u001b[0m\u001b[0;34m:\u001b[0m\u001b[0;34m\u001b[0m\u001b[0m\n\u001b[0;32m--> 187\u001b[0;31m         \u001b[0mcall\u001b[0m \u001b[0;34m=\u001b[0m \u001b[0;32mlambda\u001b[0m \u001b[0mf\u001b[0m\u001b[0;34m,\u001b[0m \u001b[0;34m*\u001b[0m\u001b[0ma\u001b[0m\u001b[0;34m,\u001b[0m \u001b[0;34m**\u001b[0m\u001b[0mk\u001b[0m\u001b[0;34m:\u001b[0m \u001b[0mf\u001b[0m\u001b[0;34m(\u001b[0m\u001b[0;34m*\u001b[0m\u001b[0ma\u001b[0m\u001b[0;34m,\u001b[0m \u001b[0;34m**\u001b[0m\u001b[0mk\u001b[0m\u001b[0;34m)\u001b[0m\u001b[0;34m\u001b[0m\u001b[0m\n\u001b[0m\u001b[1;32m    188\u001b[0m \u001b[0;34m\u001b[0m\u001b[0m\n\u001b[1;32m    189\u001b[0m         \u001b[0;32mif\u001b[0m \u001b[0mcallable\u001b[0m\u001b[0;34m(\u001b[0m\u001b[0marg\u001b[0m\u001b[0;34m)\u001b[0m\u001b[0;34m:\u001b[0m\u001b[0;34m\u001b[0m\u001b[0m\n",
      "\u001b[0;32m~/.local/share/virtualenvs/matstat-labs-9UMu__pe/lib/python3.5/site-packages/IPython/core/magics/pylab.py\u001b[0m in \u001b[0;36mmatplotlib\u001b[0;34m(self, line)\u001b[0m\n\u001b[1;32m     97\u001b[0m             \u001b[0mprint\u001b[0m\u001b[0;34m(\u001b[0m\u001b[0;34m\"Available matplotlib backends: %s\"\u001b[0m \u001b[0;34m%\u001b[0m \u001b[0mbackends_list\u001b[0m\u001b[0;34m)\u001b[0m\u001b[0;34m\u001b[0m\u001b[0m\n\u001b[1;32m     98\u001b[0m         \u001b[0;32melse\u001b[0m\u001b[0;34m:\u001b[0m\u001b[0;34m\u001b[0m\u001b[0m\n\u001b[0;32m---> 99\u001b[0;31m             \u001b[0mgui\u001b[0m\u001b[0;34m,\u001b[0m \u001b[0mbackend\u001b[0m \u001b[0;34m=\u001b[0m \u001b[0mself\u001b[0m\u001b[0;34m.\u001b[0m\u001b[0mshell\u001b[0m\u001b[0;34m.\u001b[0m\u001b[0menable_matplotlib\u001b[0m\u001b[0;34m(\u001b[0m\u001b[0margs\u001b[0m\u001b[0;34m.\u001b[0m\u001b[0mgui\u001b[0m\u001b[0;34m)\u001b[0m\u001b[0;34m\u001b[0m\u001b[0m\n\u001b[0m\u001b[1;32m    100\u001b[0m             \u001b[0mself\u001b[0m\u001b[0;34m.\u001b[0m\u001b[0m_show_matplotlib_backend\u001b[0m\u001b[0;34m(\u001b[0m\u001b[0margs\u001b[0m\u001b[0;34m.\u001b[0m\u001b[0mgui\u001b[0m\u001b[0;34m,\u001b[0m \u001b[0mbackend\u001b[0m\u001b[0;34m)\u001b[0m\u001b[0;34m\u001b[0m\u001b[0m\n\u001b[1;32m    101\u001b[0m \u001b[0;34m\u001b[0m\u001b[0m\n",
      "\u001b[0;32m~/.local/share/virtualenvs/matstat-labs-9UMu__pe/lib/python3.5/site-packages/IPython/core/interactiveshell.py\u001b[0m in \u001b[0;36menable_matplotlib\u001b[0;34m(self, gui)\u001b[0m\n\u001b[1;32m   3339\u001b[0m         \"\"\"\n\u001b[1;32m   3340\u001b[0m         \u001b[0;32mfrom\u001b[0m \u001b[0mIPython\u001b[0m\u001b[0;34m.\u001b[0m\u001b[0mcore\u001b[0m \u001b[0;32mimport\u001b[0m \u001b[0mpylabtools\u001b[0m \u001b[0;32mas\u001b[0m \u001b[0mpt\u001b[0m\u001b[0;34m\u001b[0m\u001b[0m\n\u001b[0;32m-> 3341\u001b[0;31m         \u001b[0mgui\u001b[0m\u001b[0;34m,\u001b[0m \u001b[0mbackend\u001b[0m \u001b[0;34m=\u001b[0m \u001b[0mpt\u001b[0m\u001b[0;34m.\u001b[0m\u001b[0mfind_gui_and_backend\u001b[0m\u001b[0;34m(\u001b[0m\u001b[0mgui\u001b[0m\u001b[0;34m,\u001b[0m \u001b[0mself\u001b[0m\u001b[0;34m.\u001b[0m\u001b[0mpylab_gui_select\u001b[0m\u001b[0;34m)\u001b[0m\u001b[0;34m\u001b[0m\u001b[0m\n\u001b[0m\u001b[1;32m   3342\u001b[0m \u001b[0;34m\u001b[0m\u001b[0m\n\u001b[1;32m   3343\u001b[0m         \u001b[0;32mif\u001b[0m \u001b[0mgui\u001b[0m \u001b[0;34m!=\u001b[0m \u001b[0;34m'inline'\u001b[0m\u001b[0;34m:\u001b[0m\u001b[0;34m\u001b[0m\u001b[0m\n",
      "\u001b[0;32m~/.local/share/virtualenvs/matstat-labs-9UMu__pe/lib/python3.5/site-packages/IPython/core/pylabtools.py\u001b[0m in \u001b[0;36mfind_gui_and_backend\u001b[0;34m(gui, gui_select)\u001b[0m\n\u001b[1;32m    274\u001b[0m     \"\"\"\n\u001b[1;32m    275\u001b[0m \u001b[0;34m\u001b[0m\u001b[0m\n\u001b[0;32m--> 276\u001b[0;31m     \u001b[0;32mimport\u001b[0m \u001b[0mmatplotlib\u001b[0m\u001b[0;34m\u001b[0m\u001b[0m\n\u001b[0m\u001b[1;32m    277\u001b[0m \u001b[0;34m\u001b[0m\u001b[0m\n\u001b[1;32m    278\u001b[0m     \u001b[0;32mif\u001b[0m \u001b[0mgui\u001b[0m \u001b[0;32mand\u001b[0m \u001b[0mgui\u001b[0m \u001b[0;34m!=\u001b[0m \u001b[0;34m'auto'\u001b[0m\u001b[0;34m:\u001b[0m\u001b[0;34m\u001b[0m\u001b[0m\n",
      "\u001b[0;31mImportError\u001b[0m: No module named 'matplotlib'"
     ]
    }
   ],
   "source": [
    "%matplotlib inline\n",
    "import numpy as np\n",
    "from scipy import stats\n",
    "import matplotlib.pyplot as plt"
   ]
  },
  {
   "cell_type": "markdown",
   "metadata": {},
   "source": [
    "## Генерация выборок\n",
    "\n",
    "`x = np.random.<`*`distribution`*`>(`*`...params`*`, `*`size`*`)`, где\n",
    "\n",
    "- *distribution* - распределение;\n",
    "- *...params* - параметры распределения;\n",
    "- *size* - размер выборки\n",
    "\n",
    "Доступные распределения:\n",
    "\n",
    "- нормальное: normal(m, $\\sigma^2$)\n",
    "- равномерное: uniform(a, b)\n",
    "- хи-квадрат: chisquare(k)\n"
   ]
  },
  {
   "cell_type": "code",
   "execution_count": null,
   "metadata": {},
   "outputs": [],
   "source": [
    "# Размеры выборок\n",
    "n1 = 100\n",
    "n2 = 100\n",
    "\n",
    "# Функции для получения выборок\n",
    "def gen_x1():\n",
    "    return np.random.chisquare(3, n1)\n",
    "\n",
    "def gen_x2():\n",
    "    return np.random.normal(0, 2, n2)\n",
    "\n",
    "# Конкретные выборки\n",
    "x1, x2 = gen_x1(), gen_x2()"
   ]
  },
  {
   "cell_type": "markdown",
   "metadata": {},
   "source": [
    "## 1. Выборочные характеристики\n",
    "\n",
    "**Необходимо**:\n",
    "\n",
    "1. Описать распределения $X_1$ и $X_2$, найти их МО и дисперсию, указать объём выборок\n",
    "\n",
    "2. Рассчитать выборочные характеристики: среднее, $s$, $s^2$\n",
    "\n",
    "3. Рассчитать выборочные характеристики для совокупной выборки $x_1$ + $x_2$\n"
   ]
  },
  {
   "cell_type": "code",
   "execution_count": null,
   "metadata": {},
   "outputs": [],
   "source": [
    "# пример вызова функций\n",
    "def print_sample_chars(sample):\n",
    "    print(\"Среднее {}, s={}, s^2={}\".format(\n",
    "        np.mean(sample),\n",
    "        np.std(sample),\n",
    "        np.var(sample)\n",
    "    ))\n",
    "\n",
    "print_sample_chars(x1)\n",
    "print_sample_chars(x2)\n",
    "pooled = np.concatenate([x1, x2])\n",
    "print_sample_chars(pooled)"
   ]
  },
  {
   "cell_type": "markdown",
   "metadata": {},
   "source": [
    "**Указания**:\n",
    "\n",
    "- `np.mean` - среднее значение\n",
    "- `np.std` - $s$ - оценка с.к.о.\n",
    "- `np.var` - $s^2$ - оценка дисперсии"
   ]
  },
  {
   "cell_type": "markdown",
   "metadata": {},
   "source": [
    "## 2. Однопараметрические критерии\n",
    "\n",
    "**Необходимо**:\n",
    "\n",
    "Для СВ $X_1$ сформулировать гипотезы $H_0$, проверяемые следующими тестами:\n",
    "\n",
    "1. z-test\n",
    "2. t-test\n",
    "3. $\\chi^2-test$ ($m$ известно)\n",
    "4. $\\chi^2-test$ ($m$ неизвестно)\n",
    "\n",
    "Для каждой гипотезы рассчитать выборочное значение статистики критерия, p-value, выбрать уровень значимости $\\alpha$ и рассчитать ошибку статистического решения."
   ]
  },
  {
   "cell_type": "markdown",
   "metadata": {},
   "source": [
    "**Указания**:\n",
    "\n",
    "Для получения свойств стандартных распределений используем модуль `stats`:\n",
    "\n",
    "- для нормального распределения `stats.norm`;\n",
    "- для Стьюдента `stats.t`;\n",
    "- для хи-квадрат `stats.chi2`.\n",
    "\n",
    "Квантиль распределения: `stats.<distribution>.ppf(<уровень значимости>, ...<параметры распределения>)`\n",
    "\n",
    "Функция распределения: F(x) = `stats.<distribution>.cdf(x, ...<параметры распределения>)`\n",
    "\n",
    "Функция плотности вероятности: f(x) = `stats.<distribution>.pdf(x, ...<параметры распределения>)`"
   ]
  },
  {
   "cell_type": "markdown",
   "metadata": {},
   "source": [
    "Проверим гипотезу $H_0: X_2 \\sim N(m_0 = 0.2, \\sigma^2)$ на уровне значимости $\\alpha = .05$ при альтернативной двусторонней гипотезе ($\\sigma$ считаем неизвестным):"
   ]
  },
  {
   "cell_type": "code",
   "execution_count": null,
   "metadata": {},
   "outputs": [],
   "source": [
    "def criterion_z_test(sample):\n",
    "    m0 = 1\n",
    "    sigma = 2\n",
    "    mean = np.mean(sample)\n",
    "    n = len(sample)\n",
    "    return (mean - m0) / sigma * np.sqrt(n)\n",
    "\n",
    "def criterion_chi2_m(sample):\n",
    "    pass\n",
    "\n",
    "def criterion_chi2_no_m(sample):\n",
    "    pass\n",
    "\n",
    "def criterion_t_test(sample):\n",
    "    s = np.std(sample) # s - оценка с.к.о.\n",
    "    mean = np.mean(sample) # выборочное среднее\n",
    "    m0 = 0.2 # основная гипотеза: МО генеральной совокупности для x2 составляет m0\n",
    "    return (mean - m0) / s * np.sqrt(len(sample))\n",
    "\n",
    "z_test_dist = stats.norm\n",
    "t_test_dist = stats.t\n",
    "chi2_test_dist = stats.chi2\n",
    "chi2_test_f_dist = stats.f\n",
    "\n",
    "# t-test\n",
    "criterion_value = criterion_t_test(x2) # значение статистики критерия для гипотезы H0: m = m0, сигма неизвестна\n",
    "\n",
    "alpha = 0.05 # задаёмся уровнем значимости\n",
    "student_quantile = t_test_dist.ppf(1 - alpha / 2, n2 - 1) # рассчитываем квантиль распределения Стьюдента\n",
    "\n",
    "critical_value = student_quantile # критическое значение статистики критерия\n",
    "\n",
    "print(\"Значение критерия: {}, критическое значение: {}\".format(abs(criterion_value), critical_value))\n",
    "\n",
    "is_h0_true = abs(criterion_value) < critical_value\n",
    "\n",
    "print(\"Гипотеза H0 принимается\" if is_h0_true else \"Гипотеза H0 отклоняется\")"
   ]
  },
  {
   "cell_type": "markdown",
   "metadata": {},
   "source": [
    "### P-value\n",
    "\n",
    "Рассчёт p-value для право-, лево- и двусторонней альтернативных гипотез:"
   ]
  },
  {
   "cell_type": "code",
   "execution_count": null,
   "metadata": {},
   "outputs": [],
   "source": [
    "# статистика критерия в предыдущем примере распределена как T(n2 - 1)\n",
    "def left_p_value(dist, criterion_value, sample_size):\n",
    "    return dist.cdf(criterion_value, sample_size - 1)\n",
    "\n",
    "def right_p_value(dist, criterion_value, sample_size):\n",
    "    return 1 - dist.cdf(criterion_value, sample_size - 1)\n",
    "\n",
    "def two_sided_p_value(dist, criterion_value, sample_size):\n",
    "    left_p = left_p_value(dist, criterion_value, sample_size)\n",
    "    return 2 * min(left_p, 1 - left_p)\n",
    "\n",
    "print(\"Двустороннее p-value: {}\".format( two_sided_p_value(t_test_dist, criterion_value, n2) ))"
   ]
  },
  {
   "cell_type": "markdown",
   "metadata": {},
   "source": [
    "## 3. Критерии для двух выборок\n",
    "\n",
    "**Необходимо**:\n",
    "\n",
    "Выполнить задания пункта 2 для СВ $X_1$ и $X_2$ и следующих тестов:\n",
    "\n",
    "1. 2-sample t-test\n",
    "2. 2-sample F-test (m известно)\n",
    "3. 2-sample F-test (m неизвестно)"
   ]
  },
  {
   "cell_type": "code",
   "execution_count": null,
   "metadata": {},
   "outputs": [],
   "source": [
    "def criterion_t2_test(sample1, sample2):\n",
    "    s1 = np.std(sample1)\n",
    "    s2 = np.std(sample2)\n",
    "    n1 = len(sample1)\n",
    "    n2 = len(sample2)\n",
    "    S = (n1 - 1) * s1 * s1 + (n2 - 1) * s2 * s2\n",
    "    S /= n1 + n2 - 2\n",
    "    \n",
    "    m1 = np.mean(sample1)\n",
    "    m2 = np.mean(sample2)\n",
    "    z = (m1 - m2) / S\n",
    "    z /= np.sqrt(1.0 / n1 + 1.0 / n2)\n",
    "    return z\n",
    "\n",
    "def criterion_f_test_m(sample1, sample2):\n",
    "    pass\n",
    "\n",
    "def criterion_f_test_no_m(sample1, sample2):\n",
    "    pass"
   ]
  },
  {
   "cell_type": "markdown",
   "metadata": {},
   "source": [
    "## 4. Выборочные характеристики для Z и P-value\n",
    "\n",
    "**Необходимо**: Вычислить для выборки мощностью $N$ выборочные значения для случайных величин p-value и значения статистики критерия. Гипотеза $H_0$ задаётся вариантом лабораторной работы."
   ]
  },
  {
   "cell_type": "code",
   "execution_count": null,
   "metadata": {},
   "outputs": [],
   "source": [
    "N = 500\n",
    "\n",
    "criteria = []\n",
    "p_values = []\n",
    "\n",
    "criterion_dist = t_test_dist\n",
    "\n",
    "for i in range(0, N):\n",
    "    sample = gen_x2()\n",
    "    \n",
    "    criterion_value = criterion_t_test(sample)\n",
    "    criteria.append(criterion_value)\n",
    "    \n",
    "    p_value_left = criterion_dist.cdf(criterion_value, n1 - 1)\n",
    "    p_value_right = 1 - p_value_left\n",
    "    p_value_two_sided = 2 * min(p_value_left, p_value_right)\n",
    "    p_values.append(p_value_two_sided)\n",
    "\n",
    "print(\"Критерий:\")\n",
    "print(\"среднее = {}, s^2 = {}, s = {}\".format(np.mean(criteria), np.var(criteria), np.std(criteria)))\n",
    "\n",
    "print(\"P-value:\")\n",
    "print(\"среднее = {}, s^2 = {}, s = {}\".format(np.mean(p_values), np.var(p_values), np.std(p_values)))"
   ]
  },
  {
   "cell_type": "markdown",
   "metadata": {},
   "source": [
    "### Графики\n",
    "\n",
    "**Графики** теоретических распределений и гистограммы эспериментальных значений для статистики критерия и p-value:"
   ]
  },
  {
   "cell_type": "code",
   "execution_count": null,
   "metadata": {},
   "outputs": [],
   "source": [
    "fig, ax = plt.subplots()\n",
    "\n",
    "# histogram\n",
    "n, bins, patches = ax.hist(criteria, 20, normed=True)\n",
    "\n",
    "# plot\n",
    "x = np.linspace(criterion_dist.ppf(0.05, n2 - 1), criterion_dist.ppf(0.95, n2 - 1), 100)\n",
    "ax.plot(x, criterion_dist.pdf(x, n2 - 1), 'r-', lw=5, alpha=0.6, label='Theoretical')\n",
    "\n",
    "ax.set_title(\"Статистика критерия\")\n",
    "ax.set_ylabel(\"Плотность вероятности\")\n",
    "\n",
    "fig.tight_layout()\n",
    "plt.show()"
   ]
  },
  {
   "cell_type": "code",
   "execution_count": null,
   "metadata": {},
   "outputs": [],
   "source": [
    "fig, ax = plt.subplots()\n",
    "\n",
    "# histogram\n",
    "n, bins, patches = ax.hist(p_values, 20, normed=True)\n",
    "\n",
    "# plot\n",
    "x = np.linspace(stats.uniform.ppf(0.01), stats.uniform.ppf(0.99), 100)\n",
    "ax.plot(x, stats.uniform.pdf(x), 'r-', lw=5, alpha=0.6, label='Theoretical')\n",
    "\n",
    "ax.set_title(\"P-values\")\n",
    "ax.set_ylabel(\"Плотность вероятности\")\n",
    "\n",
    "fig.tight_layout()\n",
    "plt.show()"
   ]
  }
 ],
 "metadata": {
  "kernelspec": {
   "display_name": "Python 3",
   "language": "python",
   "name": "python3"
  },
  "language_info": {
   "codemirror_mode": {
    "name": "ipython",
    "version": 3
   },
   "file_extension": ".py",
   "mimetype": "text/x-python",
   "name": "python",
   "nbconvert_exporter": "python",
   "pygments_lexer": "ipython3",
   "version": "3.5.2"
  }
 },
 "nbformat": 4,
 "nbformat_minor": 2
}
