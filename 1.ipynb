{
 "cells": [
  {
   "cell_type": "markdown",
   "metadata": {},
   "source": [
    "# Лабораторная №1. Проверка статистических гипотез\n",
    "> Вариант № 7\n",
    "\n",
    "**Распределения**:\n",
    "\n",
    "$X_1$ ~ N(-1;2) (объём выборки $n_1$ = 100) \n",
    "\n",
    "$X_2$ ~ R(-2;0) (объём выборки $n_2$ = 100) \n",
    "\n",
    "Гипотеза:\n",
    "$\\sigma_1$ = 2($m_1$ не известн.)\n",
    "\n",
    "---"
   ]
  },
  {
   "cell_type": "markdown",
   "metadata": {},
   "source": [
    "*Импорт необходимых библиотек:*"
   ]
  },
  {
   "cell_type": "code",
   "execution_count": 17,
   "metadata": {},
   "outputs": [],
   "source": [
    "%matplotlib inline\n",
    "import numpy as np\n",
    "from scipy import stats\n",
    "import matplotlib.pyplot as plt"
   ]
  },
  {
   "cell_type": "markdown",
   "metadata": {},
   "source": [
    "## Генерация выборок\n",
    "\n",
    "`x = np.random.<`*`distribution`*`>(`*`...params`*`, `*`size`*`)`, где\n",
    "\n",
    "- *distribution* - распределение;\n",
    "- *...params* - параметры распределения;\n",
    "- *size* - размер выборки\n",
    "\n",
    "Доступные распределения:\n",
    "\n",
    "- нормальное: normal(m, $\\sigma^2$)\n",
    "- равномерное: uniform(a, b)\n",
    "- хи-квадрат: chisquare(k)\n"
   ]
  },
  {
   "cell_type": "code",
   "execution_count": 20,
   "metadata": {},
   "outputs": [
    {
     "data": {
      "text/plain": [
       "-0.6744897501960817"
      ]
     },
     "execution_count": 20,
     "metadata": {},
     "output_type": "execute_result"
    }
   ],
   "source": [
    "sample = [8.6, 9.7, 7.83, 8.77, 9.15, 9.40, 9.36, 8.9, 10.22, 7.13]\n",
    "(np.mean(sample) - 9 ) / ((0.75) / np.sqrt(10))\n",
    "stats.norm.ppf(0.25, 0,1)"
   ]
  },
  {
   "cell_type": "code",
   "execution_count": 6,
   "metadata": {},
   "outputs": [],
   "source": [
    "# Размеры выборок\n",
    "n1 = 100\n",
    "n2 = 100\n",
    "\n",
    "# Функции для получения выборок\n",
    "def gen_x1():\n",
    "    return np.random.normal(-1, 2, n1)\n",
    "\n",
    "def gen_x2():\n",
    "    return np.random.uniform(-2, 0, n2)\n",
    "\n",
    "# Конкретные выборки\n",
    "x1, x2 = gen_x1(), gen_x2()"
   ]
  },
  {
   "cell_type": "markdown",
   "metadata": {},
   "source": [
    "## 1. Выборочные характеристики\n",
    "\n",
    "**Необходимо**:\n",
    "\n",
    "1. Описать распределения $X_1$ и $X_2$, найти их МО и дисперсию, указать объём выборок\n",
    "\n",
    "2. Рассчитать выборочные характеристики: среднее, $s$, $s^2$\n",
    "\n",
    "3. Рассчитать выборочные характеристики для совокупной выборки $x_1$ + $x_2$\n"
   ]
  },
  {
   "cell_type": "code",
   "execution_count": 8,
   "metadata": {},
   "outputs": [
    {
     "name": "stdout",
     "output_type": "stream",
     "text": [
      "Среднее -0.9885970805199719, s=1.8683973850298017, s^2=3.4909087883862013\n",
      "Среднее -1.015544293936899, s=0.5936822306460149, s^2=0.352458590984828\n",
      "Среднее -1.0020706872284355, s=1.3863135387650405, s^2=1.9218652277632493\n",
      "Среднее 8.906, s=0.8538641578143447, s^2=0.7290840000000001\n"
     ]
    }
   ],
   "source": [
    "# пример вызова функций\n",
    "def print_sample_chars(sample):\n",
    "    print(\"Среднее {}, s={}, s^2={}\".format(\n",
    "        np.mean(sample),\n",
    "        np.std(sample),\n",
    "        np.var(sample)\n",
    "    ))\n",
    "\n",
    "print_sample_chars(x1)\n",
    "print_sample_chars(x2)\n",
    "pooled = np.concatenate([x1, x2])\n",
    "print_sample_chars(pooled)\n",
    "print_sample_chars(sample)"
   ]
  },
  {
   "cell_type": "markdown",
   "metadata": {},
   "source": [
    "**Указания**:\n",
    "\n",
    "- `np.mean` - среднее значение\n",
    "- `np.std` - $s$ - оценка с.к.о.\n",
    "- `np.var` - $s^2$ - оценка дисперсии"
   ]
  },
  {
   "cell_type": "markdown",
   "metadata": {},
   "source": [
    "## 2. Однопараметрические критерии\n",
    "\n",
    "**Необходимо**:\n",
    "\n",
    "Для СВ $X_1$ сформулировать гипотезы $H_0$, проверяемые следующими тестами:\n",
    "\n",
    "1. z-test\n",
    "2. t-test\n",
    "3. $\\chi^2-test$ ($m$ известно)\n",
    "4. $\\chi^2-test$ ($m$ неизвестно)\n",
    "\n",
    "Для каждой гипотезы рассчитать выборочное значение статистики критерия, p-value, выбрать уровень значимости $\\alpha$ и рассчитать ошибку статистического решения."
   ]
  },
  {
   "cell_type": "markdown",
   "metadata": {},
   "source": [
    "**Указания**:\n",
    "\n",
    "Для получения свойств стандартных распределений используем модуль `stats`:\n",
    "\n",
    "- для нормального распределения `stats.norm`;\n",
    "- для Стьюдента `stats.t`;\n",
    "- для хи-квадрат `stats.chi2`.\n",
    "\n",
    "Квантиль распределения: `stats.<distribution>.ppf(<уровень значимости>, ...<параметры распределения>)`\n",
    "\n",
    "Функция распределения: F(x) = `stats.<distribution>.cdf(x, ...<параметры распределения>)`\n",
    "\n",
    "Функция плотности вероятности: f(x) = `stats.<distribution>.pdf(x, ...<параметры распределения>)`"
   ]
  },
  {
   "cell_type": "markdown",
   "metadata": {},
   "source": [
    "1. $H_0$: $m=0$ ($\\sigma$=2)\n",
    "2. $H_0$: $m=-2$ ($\\sigma$ неизвестн.)\n",
    "3. $H_0$: $\\sigma=3$ ($m=-1$)\n",
    "4. $H_0$: $\\sigma=2$ ($m$ неизвестн.)"
   ]
  },
  {
   "cell_type": "code",
   "execution_count": 11,
   "metadata": {},
   "outputs": [
    {
     "name": "stdout",
     "output_type": "stream",
     "text": [
      "Значение критерия: -0.3963388000744344, Область принятия критерия: (-1.2815515655446004, 1.2815515655446004), Гипотеза  принимается\n",
      "Значение критерия: 5.386076895625363, Область принятия критерия: (-1.2901614420275025, 1.2901614420275025), Гипотеза не принимается\n",
      "Значение критерия: 38.78932016620967, Область принятия критерия: (118.49800381106212, 82.35813581235715), Гипотеза не принимается\n",
      "Значение критерия: 87.27271970965504, Область принятия критерия: (81.44925275098248, 117.4068831867789), Гипотеза  принимается\n"
     ]
    }
   ],
   "source": [
    "from  functools import *\n",
    "\n",
    "def criterion_z_test(sample, m0, sigma):\n",
    "    mean = np.mean(sample)\n",
    "    n = len(sample)\n",
    "    return (mean - m0) / sigma * np.sqrt(n)\n",
    "def criterion_t_test(sample, m0):\n",
    "    s = np.std(sample, ddof=1)\n",
    "    mean = np.mean(sample)\n",
    "    return (mean - m0) / s * np.sqrt(len(sample))\n",
    "def criterion_chi2_m(sample, m0, sigma):\n",
    "    s_0sq = reduce(lambda x,y: x + np.square(y - m0), sample, 0) / len(sample)\n",
    "    return len(sample) * s_0sq / np.square(sigma)\n",
    "def criterion_chi2_no_m(sample, sigma):\n",
    "    s2 = np.var(sample, ddof=1)\n",
    "    return (len(sample) - 1) * s2 / sigma**2\n",
    "\n",
    "def decision(criterion_value, right_quantile, left_quantile = None):\n",
    "    if left_quantile is None:\n",
    "        left_quantile = -right_quantile\n",
    "    print(\"Значение критерия: {}, Область принятия критерия: ({}, {}), Гипотеза {} принимается\".format(\n",
    "        criterion_value,\n",
    "        left_quantile,\n",
    "        right_quantile,\n",
    "        \"не\" if criterion_value < left_quantile or criterion_value > right_quantile else \"\"\n",
    "    ))\n",
    "    \n",
    "alpha = 0.2\n",
    "\n",
    "z_criterion_value = criterion_z_test(sample, 9, 0.75)\n",
    "z_quantile = stats.norm.ppf(1 - alpha / 2, 0, 1)\n",
    "decision(z_criterion_value,z_quantile)\n",
    "\n",
    "t_criterion_value = criterion_t_test(x1, -2)\n",
    "t_quantile = stats.t.ppf(1 - alpha / 2, len(x1) - 1)\n",
    "decision(t_criterion_value,t_quantile)\n",
    "\n",
    "chi2_m_criterion_value = criterion_chi2_m(x1, -1, 3)\n",
    "chi2_m_quantile_l = stats.chi2.ppf(1 - alpha / 2, len(x1))\n",
    "chi2_m_quantile_r = stats.chi2.ppf(alpha / 2, len(x1))\n",
    "decision(chi2_m_criterion_value,chi2_m_quantile_r, chi2_m_quantile_l)\n",
    "\n",
    "chi2_no_m_criterion_value = criterion_chi2_no_m(x1, 2)\n",
    "chi2_no_m_quantile_r = stats.chi2.ppf(1 - alpha / 2, len(x1) - 1)\n",
    "chi2_no_m_quantile_l = stats.chi2.ppf(alpha / 2, len(x1) - 1)\n",
    "decision(chi2_no_m_criterion_value,chi2_no_m_quantile_r, chi2_no_m_quantile_l)"
   ]
  },
  {
   "cell_type": "markdown",
   "metadata": {},
   "source": [
    "### P-value\n",
    "\n",
    "Рассчёт p-value для право-, лево- и двусторонней альтернативных гипотез:"
   ]
  },
  {
   "cell_type": "code",
   "execution_count": 5,
   "metadata": {},
   "outputs": [
    {
     "name": "stdout",
     "output_type": "stream",
     "text": [
      "Двустороннее p-value: 2.580970087219273e-10\n",
      "Двустороннее p-value: 0.0003962444951508548\n",
      "Двустороннее p-value: 8.132089772537227e-07\n",
      "Двустороннее p-value: 0.9306759724163862\n"
     ]
    }
   ],
   "source": [
    "# статистика критерия в предыдущем примере распределена как T(n2 - 1)\n",
    "z_left_p = stats.norm.cdf(z_criterion_value, 0, 1)\n",
    "t_left_p = stats.t.cdf(t_criterion_value, len(x1) - 1)\n",
    "chi2_m_left_p = stats.chi2.cdf(chi2_m_criterion_value, len(x1))\n",
    "chi2_no_m_left_p = stats.chi2.cdf(chi2_no_m_criterion_value, len(x1) - 1)\n",
    "def two_sided_p_value(left_p):\n",
    "    return 2 * min(left_p, 1 - left_p)\n",
    "for left_p in([z_left_p, t_left_p, chi2_m_left_p, chi2_no_m_left_p]):\n",
    "    print(\"Двустороннее p-value: {}\".format( two_sided_p_value(left_p)))\n"
   ]
  },
  {
   "cell_type": "markdown",
   "metadata": {},
   "source": [
    "## 3. Критерии для двух выборок\n",
    "\n",
    "**Необходимо**:\n",
    "\n",
    "Выполнить задания пункта 2 для СВ $X_1$ и $X_2$ и следующих тестов:\n",
    "\n",
    "1. 2-sample t-test\n",
    "2. 2-sample F-test (m известно)\n",
    "3. 2-sample F-test (m неизвестно)"
   ]
  },
  {
   "cell_type": "code",
   "execution_count": 6,
   "metadata": {},
   "outputs": [
    {
     "name": "stdout",
     "output_type": "stream",
     "text": [
      "Значение критерия: -1.1879886274033615, Область принятия критерия: (-1.9720174778338955, 1.9720174778338955), Гипотеза  принимается\n",
      "Значение критерия: 12.436501759546825, Область принятия критерия: (-1.4832509898927289, 1.4832509898927289), Гипотеза не принимается\n",
      "Значение критерия: 3.5512303636927136, Область принятия критерия: (-1.4862337676192938, 1.4862337676192938), Гипотеза не принимается\n",
      "Двустороннее p-value: 0.23626096340003955\n",
      "Двустороннее p-value: 2.220446049250313e-16\n",
      "Двустороннее p-value: 1.0875289557787937e-09\n"
     ]
    }
   ],
   "source": [
    "def criterion_t2_test(sample1, sample2):\n",
    "    s1 = np.std(sample1, ddof=1)\n",
    "    s2 = np.std(sample2, ddof=1)\n",
    "    n1 = len(sample1)\n",
    "    n2 = len(sample2)\n",
    "    S = (n1 - 1) * s1 * s1 + (n2 - 1) * s2 * s2\n",
    "    S /= n1 + n2 - 2\n",
    "    \n",
    "    m1 = np.mean(sample1)\n",
    "    m2 = np.mean(sample2)\n",
    "    z = (m1 - m2) / S\n",
    "    z /= np.sqrt(1.0 / n1 + 1.0 / n2)\n",
    "    return z\n",
    "\n",
    "def criterion_f_test_m(sample1, sample2, m1, m2):\n",
    "    s0_1_square = reduce(lambda x,y: x + (y - m1)**2, sample1, 0)/len(sample1)\n",
    "    s0_2_square = reduce(lambda x,y: x + (y - m2)**2, sample2, 0)/len(sample2)\n",
    "    return s0_1_square/s0_2_square\n",
    "\n",
    "def criterion_f_test_no_m(sample1, sample2):\n",
    "    return np.std(sample1,ddof=1)/np.std(sample2,ddof=1)\n",
    "\n",
    "alpha = 0.05\n",
    "\n",
    "t2_criterion_value = criterion_t2_test(x1, x2)\n",
    "t2_quantile = stats.t.ppf(1 - alpha / 2, len(x1) + len(x2) - 2)\n",
    "decision(t2_criterion_value, t2_quantile)\n",
    "\n",
    "f_m_criterion_value = criterion_f_test_m(x1, x2, -1, -1)\n",
    "f_m_quantile = stats.f.ppf(1 - alpha / 2, len(x1), len(x2))\n",
    "decision(f_m_criterion_value,f_m_quantile)\n",
    "\n",
    "f_no_m_criterion_value = criterion_f_test_no_m(x1, x2)\n",
    "f_no_m_quantile = stats.f.ppf(1 - alpha / 2, len(x1) - 1,len(x2) - 1)\n",
    "decision(f_no_m_criterion_value,f_no_m_quantile)\n",
    "\n",
    "t2_left_p = stats.t.cdf(t2_criterion_value, len(x1) + len(x2) - 2)\n",
    "f_m_left_p = stats.f.cdf(f_m_criterion_value,  len(x1), len(x2))\n",
    "f_no_m_left_p = stats.f.cdf(f_no_m_criterion_value, len(x1) - 1, len(x2) - 1)\n",
    "for left_p in([t2_left_p, f_m_left_p, f_no_m_left_p]):\n",
    "    print(\"Двустороннее p-value: {}\".format( two_sided_p_value(left_p)))"
   ]
  },
  {
   "cell_type": "markdown",
   "metadata": {},
   "source": [
    "## 4. Выборочные характеристики для Z и P-value\n",
    "\n",
    "**Необходимо**: Вычислить для выборки мощностью $N$ выборочные значения для случайных величин p-value и значения статистики критерия. Гипотеза $H_0$ задаётся вариантом лабораторной работы."
   ]
  },
  {
   "cell_type": "code",
   "execution_count": 12,
   "metadata": {},
   "outputs": [
    {
     "name": "stdout",
     "output_type": "stream",
     "text": [
      "Критерий:\n",
      "среднее = 99.15983540232595, s^2 = 206.42764150259526, s = 14.36758996848794\n",
      "P-value:\n",
      "среднее = 0.4941973112143021, s^2 = 0.08445114956084299, s = 0.290604799617699\n"
     ]
    }
   ],
   "source": [
    "N = 500\n",
    "\n",
    "criteria = []\n",
    "p_values = []\n",
    "\n",
    "criterion_dist = stats.chi2\n",
    "\n",
    "for i in range(0, N):\n",
    "    sample = gen_x1()\n",
    "    \n",
    "    criterion_value = criterion_chi2_no_m(sample, 2)\n",
    "    criteria.append(criterion_value)\n",
    "    \n",
    "    p_value_left = criterion_dist.cdf(criterion_value, len(sample)-1)\n",
    "    p_value_right = 1 - p_value_left\n",
    "    p_value_two_sided = 2 * min(p_value_left, p_value_right)\n",
    "    p_values.append(p_value_two_sided)\n",
    "\n",
    "print(\"Критерий:\")\n",
    "print(\"среднее = {}, s^2 = {}, s = {}\".format(np.mean(criteria), np.var(criteria), np.std(criteria)))\n",
    "\n",
    "print(\"P-value:\")\n",
    "print(\"среднее = {}, s^2 = {}, s = {}\".format(np.mean(p_values), np.var(p_values), np.std(p_values)))"
   ]
  },
  {
   "cell_type": "markdown",
   "metadata": {},
   "source": [
    "### Графики\n",
    "\n",
    "**Графики** теоретических распределений и гистограммы эспериментальных значений для статистики критерия и p-value:"
   ]
  },
  {
   "cell_type": "code",
   "execution_count": 13,
   "metadata": {},
   "outputs": [
    {
     "data": {
      "image/png": "[encoded data removed]",
      "text/plain": [
       "<Figure size 432x288 with 1 Axes>"
      ]
     },
     "metadata": {
      "needs_background": "light"
     },
     "output_type": "display_data"
    }
   ],
   "source": [
    "fig, ax = plt.subplots()\n",
    "\n",
    "# histogram\n",
    "n, bins, patches = ax.hist(criteria, 20, normed=True)\n",
    "\n",
    "# plot\n",
    "x = np.linspace(criterion_dist.ppf(0.05, n2 - 1), criterion_dist.ppf(0.95, n2-1), 100)\n",
    "ax.plot(x, criterion_dist.pdf(x, n2-1), 'r-', lw=5, alpha=0.6, label='Theoretical')\n",
    "\n",
    "ax.set_title(\"Статистика критерия\")\n",
    "ax.set_ylabel(\"Плотность вероятности\")\n",
    "\n",
    "fig.tight_layout()\n",
    "plt.show()"
   ]
  },
  {
   "cell_type": "code",
   "execution_count": 14,
   "metadata": {},
   "outputs": [
    {
     "data": {
      "image/png": "[encoded data removed]",
      "text/plain": [
       "<Figure size 432x288 with 1 Axes>"
      ]
     },
     "metadata": {
      "needs_background": "light"
     },
     "output_type": "display_data"
    }
   ],
   "source": [
    "fig, ax = plt.subplots()\n",
    "\n",
    "# histogram\n",
    "n, bins, patches = ax.hist(p_values, 20, normed=True)\n",
    "\n",
    "# plot\n",
    "x = np.linspace(stats.uniform.ppf(0.01), stats.uniform.ppf(0.99), 100)\n",
    "ax.plot(x, stats.uniform.pdf(x), 'r-', lw=5, alpha=0.6, label='Theoretical')\n",
    "\n",
    "ax.set_title(\"P-values\")\n",
    "ax.set_ylabel(\"Плотность вероятности\")\n",
    "\n",
    "fig.tight_layout()\n",
    "plt.show()\n"
   ]
  },
  {
   "cell_type": "code",
   "execution_count": null,
   "metadata": {},
   "outputs": [],
   "source": []
  },
  {
   "cell_type": "code",
   "execution_count": null,
   "metadata": {},
   "outputs": [],
   "source": []
  }
 ],
 "metadata": {
  "kernelspec": {
   "display_name": "Python 3",
   "language": "python",
   "name": "python3"
  },
  "language_info": {
   "codemirror_mode": {
    "name": "ipython",
    "version": 3
   },
   "file_extension": ".py",
   "mimetype": "text/x-python",
   "name": "python",
   "nbconvert_exporter": "python",
   "pygments_lexer": "ipython3",
   "version": "3.7.0"
  }
 },
 "nbformat": 4,
 "nbformat_minor": 2
}
