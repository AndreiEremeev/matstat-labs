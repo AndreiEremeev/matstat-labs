{
 "cells": [
  {
   "cell_type": "markdown",
   "metadata": {},
   "source": [
    "# Лабораторная работа №2. Критерии согласия и однородности выборок\n",
    "\n",
    "> Вариант № ??\n",
    "\n",
    "**Распределения**:\n",
    "\n",
    "X ~ ?? (объём выборки $n_x$ &mdash; ?)\n",
    "\n",
    "Y ~ ?? (объём выборки $n_y$ &mdash; ?)"
   ]
  },
  {
   "cell_type": "code",
   "execution_count": 1,
   "metadata": {},
   "outputs": [],
   "source": [
    "%matplotlib inline\n",
    "import numpy as np\n",
    "from scipy import stats\n",
    "import matplotlib.pyplot as plt\n",
    "\n",
    "# Немного магии для того, чтобы рисунки стали больше\n",
    "import pylab\n",
    "pylab.rcParams['figure.figsize'] = (24.0, 16.0)\n",
    "plt.rcParams.update({'font.size': 22})\n",
    "\n",
    "# Вспомогательные классы и функции, определённые тут же (см. репозиторий)\n",
    "# https://github.com/BobNobrain/matstat-labs/tree/master/s\n",
    "from s import Sample\n",
    "from s.utils import table"
   ]
  },
  {
   "cell_type": "markdown",
   "metadata": {},
   "source": [
    "## Задание переменных и генерация выборок"
   ]
  },
  {
   "cell_type": "code",
   "execution_count": 2,
   "metadata": {},
   "outputs": [
    {
     "name": "stdout",
     "output_type": "stream",
     "text": [
      "Sample x: m=-0.005067221573821864, s=0.9797022658466613, s^2=0.9598165297050822\n",
      "Sample y: m=-0.042105170251160805, s=0.5707097901814313, s^2=0.32570966460893336\n"
     ]
    },
    {
     "data": {
      "text/html": [
       "<table width=\"100%\">\n",
       "    <thead><tr><td>Распределение</td><td>Параметры</td><td>$m$</td><td>$\\sigma^2$</td></tr></thead>\n",
       "    <tbody><tr><td>N</td><td>m=0, $\\sigma$=1</td><td>0.0</td><td>1.0</td></tr><tr><td>R</td><td>a=-1, b=1</td><td>0.0</td><td>0.3333</td></tr></tbody>\n",
       "    </table>"
      ],
      "text/plain": [
       "<IPython.core.display.HTML object>"
      ]
     },
     "metadata": {},
     "output_type": "display_data"
    }
   ],
   "source": [
    "nx = 100\n",
    "ny = 150\n",
    "\n",
    "X = stats.norm(0, 1)\n",
    "Y = stats.uniform(-1, 2)\n",
    "\n",
    "# Пример использования класса Sample для получения выборки из заданного распределения\n",
    "x = Sample.from_distribution(\"x\", X, count=nx)\n",
    "y = Sample.from_distribution(\"y\", Y, count=ny)\n",
    "# Альтернатива: X.rvs(size=nx) - массив случайных чисел из заданного распределения\n",
    "\n",
    "# Вспомогательный метод класса s.Sample\n",
    "x.describe()\n",
    "y.describe()\n",
    "\n",
    "# Отрисовка таблицы: массив заголовочных ячеек, массив строк таблицы\n",
    "table(\n",
    "    ['Распределение', 'Параметры', '$m$', '$\\\\sigma^2$'],\n",
    "    [\n",
    "        ['N', 'm=0, $\\\\sigma$=1', X.mean(), X.var()],\n",
    "        ['R', 'a=-1, b=1', Y.mean(), round(Y.var(), 4)]\n",
    "    ]\n",
    ")"
   ]
  },
  {
   "cell_type": "markdown",
   "metadata": {},
   "source": [
    "## 1. Исходные данные"
   ]
  },
  {
   "cell_type": "code",
   "execution_count": 3,
   "metadata": {},
   "outputs": [
    {
     "name": "stdout",
     "output_type": "stream",
     "text": [
      "Характеристики СВ X:\n"
     ]
    },
    {
     "data": {
      "text/html": [
       "<table width=\"100%\">\n",
       "    <thead><tr><td>Распределение</td><td>Параметры</td><td>Мат. ожидание $m$</td><td>Дисперсия $\\sigma^2$</td></tr></thead>\n",
       "    <tbody></tbody>\n",
       "    </table>"
      ],
      "text/plain": [
       "<IPython.core.display.HTML object>"
      ]
     },
     "metadata": {},
     "output_type": "display_data"
    },
    {
     "name": "stdout",
     "output_type": "stream",
     "text": [
      "Характеристики выборки x\n"
     ]
    },
    {
     "data": {
      "text/html": [
       "<table width=\"100%\">\n",
       "    <thead><tr><td>Среднее, $\\overline{x}$</td><td>Оценка дисперсии, $s^2$</td><td>Оценка с.к.о., $s$</td></tr></thead>\n",
       "    <tbody></tbody>\n",
       "    </table>"
      ],
      "text/plain": [
       "<IPython.core.display.HTML object>"
      ]
     },
     "metadata": {},
     "output_type": "display_data"
    }
   ],
   "source": [
    "print('Характеристики СВ X:')\n",
    "table(\n",
    "    ['Распределение', 'Параметры', 'Мат. ожидание $m$', 'Дисперсия $\\\\sigma^2$'],\n",
    "    []\n",
    ")\n",
    "\n",
    "print('Характеристики выборки x')\n",
    "table(\n",
    "    ['Среднее, $\\\\overline{x}$', 'Оценка дисперсии, $s^2$', 'Оценка с.к.о., $s$'],\n",
    "    []\n",
    ")"
   ]
  },
  {
   "cell_type": "markdown",
   "metadata": {},
   "source": [
    "## 2. Визуальное представление выборки\n",
    "\n",
    "Гистограммы частот для $n_{bins} \\in \\{5, 10, 15, n_{my}\\}$ (выберите $n_{my}$ сами):"
   ]
  },
  {
   "cell_type": "code",
   "execution_count": 4,
   "metadata": {},
   "outputs": [
    {
     "data": {
      "image/png": "[encoded data removed]",
      "text/plain": [
       "<matplotlib.figure.Figure at 0x7faadba15588>"
      ]
     },
     "metadata": {
      "needs_background": "light"
     },
     "output_type": "display_data"
    }
   ],
   "source": [
    "n_my = 'auto' # TODO: выбрать число\n",
    "fig, axs = plt.subplots(2,2)\n",
    "\n",
    "n_bins_values = [5, 10, 15, n_my]\n",
    "\n",
    "for i in range(4):\n",
    "    n_bins = n_bins_values[i]\n",
    "    picture = axs[i // 2][i % 2]\n",
    "    picture.hist(x.data(), bins=n_bins)\n",
    "    picture.set_title('$n_{bins}$ = {}'.format(n_bins, bins='{bins}'), fontsize=24)"
   ]
  },
  {
   "cell_type": "markdown",
   "metadata": {},
   "source": [
    "## 3. Критерий хи-квадрат\n",
    "\n",
    "*а)* Статистическая гипотеза $H_0: X \\sim N$"
   ]
  },
  {
   "cell_type": "code",
   "execution_count": 16,
   "metadata": {},
   "outputs": [
    {
     "data": {
      "text/html": [
       "<table width=\"100%\">\n",
       "    <thead><tr><td>Число интервалов группировки</td><td>Выборочное значение статистики критерия</td><td>p-value</td><td>Статистическое решение при $\\alpha$ = 0.01</td><td>Ошибка статистического решения</td></tr></thead>\n",
       "    <tbody><tr><td>5</td><td>0.8885</td><td>0.6413</td><td>H0</td><td>Посчитайте сами</td></tr><tr><td>10</td><td>4.5633</td><td>0.7131</td><td>H0</td><td>Посчитайте сами</td></tr><tr><td>15</td><td>11.3553</td><td>0.4987</td><td>H0</td><td>Посчитайте сами</td></tr><tr><td>Выбрать n</td><td></td><td></td><td></td><td></td></tr></tbody>\n",
       "    </table>"
      ],
      "text/plain": [
       "<IPython.core.display.HTML object>"
      ]
     },
     "metadata": {},
     "output_type": "display_data"
    }
   ],
   "source": [
    "from s import Pierson1SampledHyp\n",
    "\n",
    "alpha = 0.01\n",
    "my_n = 'Выбрать n'\n",
    "\n",
    "proposed_dist = stats.norm(X.mean(), X.var())\n",
    "\n",
    "def table_row(n):\n",
    "    start = -3.\n",
    "    end = 3.\n",
    "    step = (end - start) / n\n",
    "    \n",
    "    h0 = Pierson1SampledHyp(\n",
    "        bins=np.arange(start, end + step, step),\n",
    "        unknown_params_n=2\n",
    "    )\n",
    "    criterion_v, critical_v, p_v, passed = h0.full_test(dist=proposed_dist, sample=x, alpha=alpha)\n",
    "    decision = 'H0' if passed else 'H1'\n",
    "    return [n, round(criterion_v, 4), round(p_v, 4), decision, 'Посчитайте сами']\n",
    "\n",
    "table(\n",
    "    [\n",
    "        'Число интервалов группировки',\n",
    "        'Выборочное значение статистики критерия',\n",
    "        'p-value',\n",
    "        'Статистическое решение при $\\\\alpha$ = {}'.format(alpha),\n",
    "        'Ошибка статистического решения'\n",
    "    ],\n",
    "    [\n",
    "        table_row(5),\n",
    "        table_row(10),\n",
    "        table_row(15),\n",
    "        [my_n, '', '', '', '']\n",
    "    ]\n",
    ")"
   ]
  },
  {
   "cell_type": "markdown",
   "metadata": {},
   "source": [
    "---\n",
    "\n",
    "*б)* Статистическая гипотеза $H_0: X \\sim R$"
   ]
  },
  {
   "cell_type": "code",
   "execution_count": 6,
   "metadata": {},
   "outputs": [
    {
     "data": {
      "text/html": [
       "<table width=\"100%\">\n",
       "    <thead><tr><td>Число интервалов группировки</td><td>Выборочное значение статистики критерия</td><td>p-value</td><td>Статистическое решение при $\\alpha$ = 0.01</td><td>Ошибка статистического решения</td></tr></thead>\n",
       "    <tbody><tr><td>5</td><td></td><td></td><td></td><td></td></tr><tr><td>10</td><td></td><td></td><td></td><td></td></tr><tr><td>15</td><td></td><td></td><td></td><td></td></tr><tr><td>Выбрать n</td><td></td><td></td><td></td><td></td></tr></tbody>\n",
       "    </table>"
      ],
      "text/plain": [
       "<IPython.core.display.HTML object>"
      ]
     },
     "metadata": {},
     "output_type": "display_data"
    }
   ],
   "source": [
    "alpha = 0.01\n",
    "my_n = 'Выбрать n'\n",
    "\n",
    "table(\n",
    "    [\n",
    "        'Число интервалов группировки',\n",
    "        'Выборочное значение статистики критерия',\n",
    "        'p-value',\n",
    "        'Статистическое решение при $\\\\alpha$ = {}'.format(alpha),\n",
    "        'Ошибка статистического решения'\n",
    "    ],\n",
    "    [\n",
    "        [5, '', '', '', ''],\n",
    "        [10, '', '', '', ''],\n",
    "        [15, '', '', '', ''],\n",
    "        [my_n, '', '', '', '']\n",
    "    ]\n",
    ")"
   ]
  },
  {
   "cell_type": "markdown",
   "metadata": {},
   "source": [
    "---\n",
    "\n",
    "*в)* Статистическая гипотеза $H_0: X \\sim \\chi^2(5)$"
   ]
  },
  {
   "cell_type": "code",
   "execution_count": 7,
   "metadata": {},
   "outputs": [
    {
     "data": {
      "text/html": [
       "<table width=\"100%\">\n",
       "    <thead><tr><td>Число интервалов группировки</td><td>Выборочное значение статистики критерия</td><td>p-value</td><td>Статистическое решение при $\\alpha$ = 0.01</td><td>Ошибка статистического решения</td></tr></thead>\n",
       "    <tbody><tr><td>5</td><td></td><td></td><td></td><td></td></tr><tr><td>10</td><td></td><td></td><td></td><td></td></tr><tr><td>15</td><td></td><td></td><td></td><td></td></tr><tr><td>Выбрать n</td><td></td><td></td><td></td><td></td></tr></tbody>\n",
       "    </table>"
      ],
      "text/plain": [
       "<IPython.core.display.HTML object>"
      ]
     },
     "metadata": {},
     "output_type": "display_data"
    }
   ],
   "source": [
    "alpha = 0.01\n",
    "my_n = 'Выбрать n'\n",
    "\n",
    "table(\n",
    "    [\n",
    "        'Число интервалов группировки',\n",
    "        'Выборочное значение статистики критерия',\n",
    "        'p-value',\n",
    "        'Статистическое решение при $\\\\alpha$ = {}'.format(alpha),\n",
    "        'Ошибка статистического решения'\n",
    "    ],\n",
    "    [\n",
    "        [5, '', '', '', ''],\n",
    "        [10, '', '', '', ''],\n",
    "        [15, '', '', '', ''],\n",
    "        [my_n, '', '', '', '']\n",
    "    ]\n",
    ")"
   ]
  },
  {
   "cell_type": "markdown",
   "metadata": {},
   "source": [
    "## 4. Критерий Колмогорова"
   ]
  },
  {
   "cell_type": "code",
   "execution_count": 8,
   "metadata": {},
   "outputs": [
    {
     "data": {
      "text/html": [
       "<table width=\"100%\">\n",
       "    <thead><tr><td>Статистическая гипотеза $H_0$</td><td>Выборочное значение статистики критерия</td><td>p-value</td><td>Статистическое решение при $\\alpha$ = 0.01</td><td>Ошибка статистического решения</td></tr></thead>\n",
       "    <tbody><tr><td>$X \\sim N(m, \\sigma)$</td><td></td><td></td><td></td><td></td></tr><tr><td>$X \\sim R$</td><td></td><td></td><td></td><td></td></tr><tr><td>$X \\sim \\chi^2(5)$</td><td></td><td></td><td></td><td></td></tr></tbody>\n",
       "    </table>"
      ],
      "text/plain": [
       "<IPython.core.display.HTML object>"
      ]
     },
     "metadata": {},
     "output_type": "display_data"
    }
   ],
   "source": [
    "alpha = 0.01\n",
    "\n",
    "table(\n",
    "    [\n",
    "        'Статистическая гипотеза $H_0$',\n",
    "        'Выборочное значение статистики критерия',\n",
    "        'p-value',\n",
    "        'Статистическое решение при $\\\\alpha$ = {}'.format(alpha),\n",
    "        'Ошибка статистического решения'\n",
    "    ],\n",
    "    [\n",
    "        ['$X \\\\sim N(m, \\\\sigma)$', '', '', '', ''],\n",
    "        ['$X \\\\sim R$', '', '', '', ''],\n",
    "        ['$X \\\\sim \\\\chi^2(5)$', '', '', '', '']\n",
    "    ]\n",
    ")"
   ]
  },
  {
   "cell_type": "code",
   "execution_count": 9,
   "metadata": {
    "scrolled": false
   },
   "outputs": [
    {
     "data": {
      "image/png": "[encoded data removed]",
      "text/plain": [
       "<matplotlib.figure.Figure at 0x7faad97182b0>"
      ]
     },
     "metadata": {
      "needs_background": "light"
     },
     "output_type": "display_data"
    }
   ],
   "source": [
    "h0_distributions = [\n",
    "    ('N', stats.norm(2, 4)),\n",
    "    ('R', stats.uniform(-2, 10)),\n",
    "    ('Chi2', stats.chi2(5))\n",
    "]\n",
    "\n",
    "\n",
    "fig, ax = plt.subplots()\n",
    "ax.set_title('Эмпирическая и теоретические функции распределения')\n",
    "\n",
    "for name, dist in h0_distributions:\n",
    "    domain = np.linspace(dist.ppf(0.001), dist.ppf(0.999), 200)\n",
    "    values = dist.pdf(domain)\n",
    "    ax.plot(domain, values, lw=5, label=name)\n",
    "    ax.fill_between(domain, 0, values, alpha=.2)\n",
    "    \n",
    "# TODO: ECDF\n",
    "\n",
    "ax.legend(prop={'size': 32})\n",
    "    \n",
    "fig.tight_layout()\n",
    "plt.show()"
   ]
  },
  {
   "cell_type": "markdown",
   "metadata": {},
   "source": [
    "# 5. Двухвыборочные критерии"
   ]
  },
  {
   "cell_type": "code",
   "execution_count": 10,
   "metadata": {},
   "outputs": [
    {
     "name": "stdout",
     "output_type": "stream",
     "text": [
      "Характеристики СВ Y:\n"
     ]
    },
    {
     "data": {
      "text/html": [
       "<table width=\"100%\">\n",
       "    <thead><tr><td>Распределение</td><td>Параметры</td><td>Мат. ожидание $m$</td><td>Дисперсия $\\sigma^2$</td></tr></thead>\n",
       "    <tbody></tbody>\n",
       "    </table>"
      ],
      "text/plain": [
       "<IPython.core.display.HTML object>"
      ]
     },
     "metadata": {},
     "output_type": "display_data"
    },
    {
     "name": "stdout",
     "output_type": "stream",
     "text": [
      "Характеристики выборки y\n"
     ]
    },
    {
     "data": {
      "text/html": [
       "<table width=\"100%\">\n",
       "    <thead><tr><td>Среднее, $\\overline{x}$</td><td>Оценка дисперсии, $s^2$</td><td>Оценка с.к.о., $s$</td></tr></thead>\n",
       "    <tbody></tbody>\n",
       "    </table>"
      ],
      "text/plain": [
       "<IPython.core.display.HTML object>"
      ]
     },
     "metadata": {},
     "output_type": "display_data"
    }
   ],
   "source": [
    "print('Характеристики СВ Y:')\n",
    "table(\n",
    "    ['Распределение', 'Параметры', 'Мат. ожидание $m$', 'Дисперсия $\\\\sigma^2$'],\n",
    "    []\n",
    ")\n",
    "\n",
    "print('Характеристики выборки y')\n",
    "table(\n",
    "    ['Среднее, $\\\\overline{x}$', 'Оценка дисперсии, $s^2$', 'Оценка с.к.о., $s$'],\n",
    "    []\n",
    ")"
   ]
  },
  {
   "cell_type": "code",
   "execution_count": 11,
   "metadata": {},
   "outputs": [
    {
     "data": {
      "image/png": "[encoded data removed]",
      "text/plain": [
       "<matplotlib.figure.Figure at 0x7faad96770f0>"
      ]
     },
     "metadata": {
      "needs_background": "light"
     },
     "output_type": "display_data"
    }
   ],
   "source": [
    "fig, ax = plt.subplots(1, 2)\n",
    "\n",
    "left_plot = ax[0]\n",
    "right_plot = ax[1]\n",
    "\n",
    "min_val = max(x.min(), y.min())\n",
    "max_val = min(x.max(), y.max())\n",
    "clipped_x = np.clip(x.data(), min_val, max_val)\n",
    "clipped_y = np.clip(y.data(), min_val, max_val)\n",
    "\n",
    "left_plot.set_title('HIST: X, Y')\n",
    "left_plot.hist(clipped_x, bins=10, label='x', alpha=.5)\n",
    "left_plot.hist(clipped_y, bins=10, label='y', alpha=.5)\n",
    "left_plot.legend()\n",
    "\n",
    "\n",
    "right_plot.set_title('ECDF: X, Y');\n",
    "\n",
    "# TODO: ECDF"
   ]
  },
  {
   "cell_type": "code",
   "execution_count": 12,
   "metadata": {},
   "outputs": [
    {
     "data": {
      "text/html": [
       "<table width=\"100%\">\n",
       "    <thead><tr><td>Критерий</td><td>Статистическая гипотеза $H_0$</td><td>Выборочное значение статистики критерия</td><td>p-value</td><td>Статистическое решение при $\\alpha$ = 0.01</td><td>Ошибка статистического решения</td></tr></thead>\n",
       "    <tbody><tr><td>Chi-squared</td><td></td><td></td><td></td><td></td><td></td></tr><tr><td>KS-test</td><td></td><td></td><td></td><td></td><td></td></tr><tr><td>Sign test</td><td></td><td></td><td></td><td></td><td></td></tr><tr><td>U-test</td><td></td><td></td><td></td><td></td><td></td></tr></tbody>\n",
       "    </table>"
      ],
      "text/plain": [
       "<IPython.core.display.HTML object>"
      ]
     },
     "metadata": {},
     "output_type": "display_data"
    }
   ],
   "source": [
    "alpha = 0.01\n",
    "\n",
    "table(\n",
    "    [\n",
    "        'Критерий',\n",
    "        'Статистическая гипотеза $H_0$',\n",
    "        'Выборочное значение статистики критерия',\n",
    "        'p-value',\n",
    "        'Статистическое решение при $\\\\alpha$ = {}'.format(alpha),\n",
    "        'Ошибка статистического решения'\n",
    "    ],\n",
    "    [\n",
    "        ['Chi-squared', '', '', '', '', ''],\n",
    "        ['KS-test', '', '', '', '', ''],\n",
    "        ['Sign test', '', '', '', '', ''],\n",
    "        ['U-test', '', '', '', '', '']\n",
    "    ]\n",
    ")"
   ]
  }
 ],
 "metadata": {
  "kernelspec": {
   "display_name": "Python 3",
   "language": "python",
   "name": "python3"
  },
  "language_info": {
   "codemirror_mode": {
    "name": "ipython",
    "version": 3
   },
   "file_extension": ".py",
   "mimetype": "text/x-python",
   "name": "python",
   "nbconvert_exporter": "python",
   "pygments_lexer": "ipython3",
   "version": "3.5.2"
  }
 },
 "nbformat": 4,
 "nbformat_minor": 2
}
