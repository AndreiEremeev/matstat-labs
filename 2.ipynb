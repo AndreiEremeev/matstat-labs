{
 "cells": [
  {
   "cell_type": "markdown",
   "metadata": {},
   "source": [
    "# Лабораторная работа №2. Критерии согласия и однородности выборок\n",
    "\n",
    "> Вариант № 5\n",
    "\n",
    "**Распределения**:\n",
    "\n",
    "X ~ N(5,2) (объём выборки $n_x$ &mdash; 100)\n",
    "\n",
    "Y ~ N(5,2) (объём выборки $n_y$ &mdash; 100)"
   ]
  },
  {
   "cell_type": "code",
   "execution_count": 19,
   "metadata": {},
   "outputs": [],
   "source": [
    "%matplotlib inline\n",
    "import numpy as np\n",
    "from scipy import stats\n",
    "import matplotlib.pyplot as plt\n",
    "from statsmodels.distributions.empirical_distribution import ECDF\n",
    "\n",
    "# Немного магии для того, чтобы рисунки стали больше\n",
    "import pylab\n",
    "pylab.rcParams['figure.figsize'] = (24.0, 16.0)\n",
    "plt.rcParams.update({'font.size': 22})\n",
    "\n",
    "# Вспомогательные классы и функции, определённые тут же (см. репозиторий)\n",
    "# https://github.com/BobNobrain/matstat-labs/tree/master/s\n",
    "from s import Sample\n",
    "from s.utils import table"
   ]
  },
  {
   "cell_type": "markdown",
   "metadata": {},
   "source": [
    "## Задание переменных и генерация выборок"
   ]
  },
  {
   "cell_type": "code",
   "execution_count": 2,
   "metadata": {},
   "outputs": [
    {
     "name": "stdout",
     "output_type": "stream",
     "text": [
      "Sample x: m=5.026363806239339, s=1.4795205268910652, s^2=2.188980989492015\n",
      "Sample y: m=4.7810795181233035, s=1.3583277341619444, s^2=1.845054233393522\n"
     ]
    },
    {
     "data": {
      "text/html": [
       "<table width=\"100%\" class=\"htable\">\n",
       "    <thead><tr><th>Распределение</th><th>Параметры</th><th>$m$</th><th>$\\sigma^2$</th></tr></thead>\n",
       "    <tbody><tr><td>N</td><td>m=5, $\\sigma^2$=2</td><td>5.0</td><td>2.0000000000000004</td></tr><tr><td>N</td><td>m=5, $\\sigma^2$=2</td><td>5.0</td><td>2.0000000000000004</td></tr></tbody>\n",
       "    </table>"
      ],
      "text/plain": [
       "<IPython.core.display.HTML object>"
      ]
     },
     "metadata": {},
     "output_type": "display_data"
    }
   ],
   "source": [
    "nx = 100\n",
    "ny = 100\n",
    "\n",
    "X = stats.norm(5, np.sqrt(2))\n",
    "Y = stats.norm(5, np.sqrt(2))\n",
    "\n",
    "# Пример использования класса Sample для получения выборки из заданного распределения\n",
    "x = Sample.from_distribution(\"x\", X, count=nx)\n",
    "y = Sample.from_distribution(\"y\", Y, count=ny)\n",
    "# Альтернатива: X.rvs(size=nx) - массив случайных чисел из заданного распределения\n",
    "\n",
    "# Вспомогательный метод класса s.Sample\n",
    "x.describe()\n",
    "y.describe()\n",
    "\n",
    "# Отрисовка таблицы: массив заголовочных ячеек, массив строк таблицы\n",
    "table(\n",
    "    ['Распределение', 'Параметры', '$m$', '$\\\\sigma^2$'],\n",
    "    [\n",
    "        ['N', 'm=5, $\\\\sigma^2$=2', X.mean(), X.var()],\n",
    "        ['N', 'm=5, $\\\\sigma^2$=2', Y.mean(), Y.var()],\n",
    "    ]\n",
    ")"
   ]
  },
  {
   "cell_type": "markdown",
   "metadata": {},
   "source": [
    "## 1. Исходные данные"
   ]
  },
  {
   "cell_type": "code",
   "execution_count": 3,
   "metadata": {},
   "outputs": [
    {
     "name": "stdout",
     "output_type": "stream",
     "text": [
      "Характеристики СВ X:\n"
     ]
    },
    {
     "data": {
      "text/html": [
       "<table width=\"100%\" class=\"htable\">\n",
       "    <thead><tr><th>Распределение</th><th>Параметры</th><th>Мат. ожидание $m$</th><th>Дисперсия $\\sigma^2$</th></tr></thead>\n",
       "    <tbody><tr><td>N</td><td>(5,2)</td><td>5.0</td><td>2.0000000000000004</td></tr></tbody>\n",
       "    </table>"
      ],
      "text/plain": [
       "<IPython.core.display.HTML object>"
      ]
     },
     "metadata": {},
     "output_type": "display_data"
    },
    {
     "name": "stdout",
     "output_type": "stream",
     "text": [
      "Характеристики выборки x\n"
     ]
    },
    {
     "data": {
      "text/html": [
       "<table width=\"100%\" class=\"htable\">\n",
       "    <thead><tr><th>Среднее, $\\overline{x}$</th><th>Оценка дисперсии, $s^2$</th><th>Оценка с.к.о., $s$</th></tr></thead>\n",
       "    <tbody><tr><td>5.0264</td><td>2.1671</td><td>1.4795</td></tr></tbody>\n",
       "    </table>"
      ],
      "text/plain": [
       "<IPython.core.display.HTML object>"
      ]
     },
     "metadata": {},
     "output_type": "display_data"
    }
   ],
   "source": [
    "print('Характеристики СВ X:')\n",
    "\n",
    "table(\n",
    "    ['Распределение', 'Параметры', 'Мат. ожидание $m$', 'Дисперсия $\\\\sigma^2$'],\n",
    "    [[ 'N', '(5,2)', X.mean(), X.var()]]\n",
    ")\n",
    "\n",
    "print('Характеристики выборки x')\n",
    "table(\n",
    "    ['Среднее, $\\\\overline{x}$', 'Оценка дисперсии, $s^2$', 'Оценка с.к.о., $s$'],\n",
    "    [[round(x.mean(), 4), round(x.var(), 4), round(x.s(),4)]]\n",
    ")"
   ]
  },
  {
   "cell_type": "markdown",
   "metadata": {},
   "source": [
    "## 2. Визуальное представление выборки\n",
    "\n",
    "Гистограммы частот для $n_{bins} \\in \\{5, 10, 15, n_{my}\\}$ (выберите $n_{my}$ сами):"
   ]
  },
  {
   "cell_type": "code",
   "execution_count": 4,
   "metadata": {},
   "outputs": [
    {
     "data": {
      "image/png": "[encoded data removed]",
      "text/plain": [
       "<Figure size 432x288 with 4 Axes>"
      ]
     },
     "metadata": {
      "needs_background": "light"
     },
     "output_type": "display_data"
    }
   ],
   "source": [
    "n_my = 33 # TODO: выбрать число\n",
    "fig, axs = plt.subplots(2,2)\n",
    "\n",
    "n_bins_values = [5, 10, 15, n_my]\n",
    "\n",
    "for i in range(4):\n",
    "    n_bins = n_bins_values[i]\n",
    "    picture = axs[i // 2][i % 2]\n",
    "    picture.hist(x.data(), bins=n_bins)\n",
    "    picture.set_title('$n_{bins}$ = {}'.format(n_bins, bins='{bins}'), fontsize=24)"
   ]
  },
  {
   "cell_type": "markdown",
   "metadata": {},
   "source": [
    "## 3. Критерий хи-квадрат\n",
    "\n",
    "*а)* Статистическая гипотеза $H_0: X \\sim N$"
   ]
  },
  {
   "cell_type": "code",
   "execution_count": 15,
   "metadata": {},
   "outputs": [
    {
     "name": "stdout",
     "output_type": "stream",
     "text": [
      "2.49672744104229 (0.020100671707002887, 9.21034037197618) 0.2869739825346478\n",
      "7.159627935081573 (1.2390423055679303, 18.475306906582357) 0.4124510063436564\n",
      "25.058483221210192 (3.5705689706043926, 26.216967305535853) 0.014548159299512142\n",
      "45.73120561206485 (14.953456528455447, 50.89218131151707) 0.032957227532083855\n"
     ]
    },
    {
     "data": {
      "text/html": [
       "<table width=\"100%\" class=\"htable\">\n",
       "    <thead><tr><th>Число интервалов группировки</th><th>Выборочное значение статистики критерия</th><th>p-value</th><th>Статистическое решение при $\\alpha$ = 0.01</th><th>Ошибка статистического решения</th></tr></thead>\n",
       "    <tbody><tr><td>5</td><td>2.4967</td><td>0.287</td><td>H0</td><td></td></tr><tr><td>10</td><td>7.1596</td><td>0.4125</td><td>H0</td><td></td></tr><tr><td>15</td><td>25.0585</td><td>0.0145</td><td>H0</td><td></td></tr><tr><td>33</td><td>45.7312</td><td>0.033</td><td>H0</td><td></td></tr></tbody>\n",
       "    </table>"
      ],
      "text/plain": [
       "<IPython.core.display.HTML object>"
      ]
     },
     "metadata": {},
     "output_type": "display_data"
    }
   ],
   "source": [
    "from s import Pierson1SampledHyp\n",
    "import math\n",
    "\n",
    "alpha = 0.01\n",
    "my_n = 33\n",
    "\n",
    "normal_dist = stats.norm(X.mean(), X.std())\n",
    "\n",
    "def table_row(n, proposed_dist, excepted_dec):\n",
    "    start = x.min()\n",
    "    end = x.max()\n",
    "    step = (end - start) / n\n",
    "    \n",
    "    h0 = Pierson1SampledHyp(\n",
    "        bins=np.arange(start, end + step, step),\n",
    "        unknown_params_n=2\n",
    "    )\n",
    "    criterion_v, critical_v, p_v, passed = h0.full_test(dist=proposed_dist, sample=x, alpha=alpha)\n",
    "    print(criterion_v, critical_v, p_v)\n",
    "    decision = 'H0' if passed else 'H1'\n",
    "    err = \"\"\n",
    "    if decision != excepted_dec:\n",
    "        err = \"Ошибка 1-го рода\" if excepted_dec == \"H0\" else \"Ошибка 2-го рода\"\n",
    "            \n",
    "    return [n, round(criterion_v, 4), round(p_v, 4), decision, err]\n",
    "\n",
    "table(\n",
    "    [\n",
    "        'Число интервалов группировки',\n",
    "        'Выборочное значение статистики критерия',\n",
    "        'p-value',\n",
    "        'Статистическое решение при $\\\\alpha$ = {}'.format(alpha),\n",
    "        'Ошибка статистического решения'\n",
    "    ],\n",
    "    [\n",
    "        table_row(5, normal_dist, 'H0'),\n",
    "        table_row(10, normal_dist,'H0' ),\n",
    "        table_row(15, normal_dist, 'H0'),\n",
    "        table_row(my_n, normal_dist, 'H0'),\n",
    "    ]\n",
    ")"
   ]
  },
  {
   "cell_type": "markdown",
   "metadata": {},
   "source": [
    "---\n",
    "\n",
    "*б)* Статистическая гипотеза $H_0: X \\sim R$"
   ]
  },
  {
   "cell_type": "code",
   "execution_count": 16,
   "metadata": {},
   "outputs": [
    {
     "name": "stdout",
     "output_type": "stream",
     "text": [
      "52.89999999999998 (0.020100671707002887, 9.21034037197618) 3.257727421157597e-12\n",
      "61.19999999999999 (1.2390423055679303, 18.475306906582357) 8.690670405542278e-11\n",
      "101.89999999999993 (3.5705689706043926, 26.216967305535853) 2.220446049250313e-16\n",
      "112.52000000000001 (14.953456528455447, 50.89218131151707) 1.7784884676075308e-11\n"
     ]
    },
    {
     "data": {
      "text/html": [
       "<table width=\"100%\" class=\"htable\">\n",
       "    <thead><tr><th>Число интервалов группировки</th><th>Выборочное значение статистики критерия</th><th>p-value</th><th>Статистическое решение при $\\alpha$ = 0.01</th><th>Ошибка статистического решения</th></tr></thead>\n",
       "    <tbody><tr><td>5</td><td>52.9</td><td>0.0</td><td>H1</td><td></td></tr><tr><td>10</td><td>61.2</td><td>0.0</td><td>H1</td><td></td></tr><tr><td>15</td><td>101.9</td><td>0.0</td><td>H1</td><td></td></tr><tr><td>33</td><td>112.52</td><td>0.0</td><td>H1</td><td></td></tr></tbody>\n",
       "    </table>"
      ],
      "text/plain": [
       "<IPython.core.display.HTML object>"
      ]
     },
     "metadata": {},
     "output_type": "display_data"
    }
   ],
   "source": [
    "uniform_dist = stats.uniform(x.min(),x.max() - x.min())\n",
    "table(\n",
    "    [\n",
    "        'Число интервалов группировки',\n",
    "        'Выборочное значение статистики критерия',\n",
    "        'p-value',\n",
    "        'Статистическое решение при $\\\\alpha$ = {}'.format(alpha),\n",
    "        'Ошибка статистического решения'\n",
    "    ],\n",
    "    [\n",
    "        table_row(5, uniform_dist,\"H1\"),\n",
    "        table_row(10, uniform_dist,\"H1\"),\n",
    "        table_row(15, uniform_dist,\"H1\"),\n",
    "        table_row(my_n, uniform_dist,\"H1\"),\n",
    "    ]\n",
    ")"
   ]
  },
  {
   "cell_type": "markdown",
   "metadata": {},
   "source": [
    "---\n",
    "\n",
    "*в)* Статистическая гипотеза $H_0: X \\sim \\chi^2(5)$"
   ]
  },
  {
   "cell_type": "code",
   "execution_count": 17,
   "metadata": {},
   "outputs": [
    {
     "name": "stdout",
     "output_type": "stream",
     "text": [
      "52.743383896733754 (0.020100671707002887, 9.21034037197618) 3.5230707240430092e-12\n",
      "58.46373945739149 (1.2390423055679303, 18.475306906582357) 3.05665381894471e-10\n",
      "98.27124183733721 (3.5705689706043926, 26.216967305535853) 1.2212453270876722e-15\n",
      "111.34955927553501 (14.953456528455447, 50.89218131151707) 2.767330808950419e-11\n"
     ]
    },
    {
     "data": {
      "text/html": [
       "<table width=\"100%\" class=\"htable\">\n",
       "    <thead><tr><th>Число интервалов группировки</th><th>Выборочное значение статистики критерия</th><th>p-value</th><th>Статистическое решение при $\\alpha$ = 0.01</th><th>Ошибка статистического решения</th></tr></thead>\n",
       "    <tbody><tr><td>5</td><td>52.7434</td><td>0.0</td><td>H1</td><td></td></tr><tr><td>10</td><td>58.4637</td><td>0.0</td><td>H1</td><td></td></tr><tr><td>15</td><td>98.2712</td><td>0.0</td><td>H1</td><td></td></tr><tr><td>33</td><td>111.3496</td><td>0.0</td><td>H1</td><td></td></tr></tbody>\n",
       "    </table>"
      ],
      "text/plain": [
       "<IPython.core.display.HTML object>"
      ]
     },
     "metadata": {},
     "output_type": "display_data"
    }
   ],
   "source": [
    "chi2_dist = stats.chi2(5)\n",
    "table(\n",
    "    [\n",
    "        'Число интервалов группировки',\n",
    "        'Выборочное значение статистики критерия',\n",
    "        'p-value',\n",
    "        'Статистическое решение при $\\\\alpha$ = {}'.format(alpha),\n",
    "        'Ошибка статистического решения'\n",
    "    ],\n",
    "    [\n",
    "        table_row(5, chi2_dist, \"H1\"),\n",
    "        table_row(10, chi2_dist, \"H1\"),\n",
    "        table_row(15, chi2_dist, \"H1\"),\n",
    "        table_row(my_n, chi2_dist, \"H1\"),\n",
    "    ]\n",
    ")"
   ]
  },
  {
   "cell_type": "markdown",
   "metadata": {},
   "source": [
    "## 4. Критерий Колмогорова"
   ]
  },
  {
   "cell_type": "code",
   "execution_count": 8,
   "metadata": {},
   "outputs": [
    {
     "data": {
      "text/html": [
       "<table width=\"100%\" class=\"htable\">\n",
       "    <thead><tr><th>Статистическая гипотеза $H_0$</th><th>Выборочное значение статистики критерия</th><th>p-value</th><th>Статистическое решение при $\\alpha$ = 0.01</th><th>Ошибка статистического решения</th></tr></thead>\n",
       "    <tbody><tr><td>$X \\sim N(m, \\sigma)$</td><td>0.08039703938138709</td><td>0.5208922285630737</td><td>H0</td><td>-</td></tr><tr><td>$X \\sim R$</td><td>0.22657161663493636</td><td>5.4133531790734324e-05</td><td>H1</td><td>-</td></tr><tr><td>$X \\sim \\chi^2(5)$</td><td>0.24891849684637346</td><td>6.04725317465693e-06</td><td>H1</td><td>-</td></tr></tbody>\n",
       "    </table>"
      ],
      "text/plain": [
       "<IPython.core.display.HTML object>"
      ]
     },
     "metadata": {},
     "output_type": "display_data"
    }
   ],
   "source": [
    "alpha = 0.01\n",
    "def table_row_kolmogorov(string, distrib, sample, excepted):\n",
    "    ks_result = stats.kstest(x.data(), distrib.cdf)\n",
    "    decision = \"\"\n",
    "    if stats.ksone.ppf(1-alpha, nx) > ks_result.statistic:\n",
    "        decision = \"H0\"\n",
    "    else:\n",
    "        decision = \"H1\"\n",
    "    err = \"-\"\n",
    "    if decision != excepted:\n",
    "        err = \"Ошибка 1-го рода\" if excepted == \"H0\" else \"Ошибка 2-го рода\"\n",
    "    return string, ks_result.statistic, ks_result.pvalue, decision, err\n",
    "\n",
    "table(\n",
    "    [\n",
    "        'Статистическая гипотеза $H_0$',\n",
    "        'Выборочное значение статистики критерия',\n",
    "        'p-value',\n",
    "        'Статистическое решение при $\\\\alpha$ = {}'.format(alpha),\n",
    "        'Ошибка статистического решения'\n",
    "    ],\n",
    "    [\n",
    "        table_row_kolmogorov('$X \\\\sim N(m, \\\\sigma)$', normal_dist, x, \"H0\"),\n",
    "        table_row_kolmogorov('$X \\\\sim R$', uniform_dist, x, \"H1\"),\n",
    "        table_row_kolmogorov('$X \\\\sim \\\\chi^2(5)$', chi2_dist, x, \"H1\"),\n",
    "    ]\n",
    ")\n"
   ]
  },
  {
   "cell_type": "code",
   "execution_count": 9,
   "metadata": {
    "scrolled": false
   },
   "outputs": [
    {
     "data": {
      "image/png": "[encoded data removed]",
      "text/plain": [
       "<Figure size 432x288 with 1 Axes>"
      ]
     },
     "metadata": {
      "needs_background": "light"
     },
     "output_type": "display_data"
    }
   ],
   "source": [
    "h0_distributions = [\n",
    "    ('N', normal_dist),\n",
    "    ('R', uniform_dist),\n",
    "    ('Chi2', chi2_dist)\n",
    "]\n",
    "\n",
    "\n",
    "fig, ax = plt.subplots()\n",
    "ax.set_title('Эмпирическая и теоретические функции распределения')\n",
    "\n",
    "for name, dist in h0_distributions:\n",
    "    domain = np.linspace(\n",
    "        max(-2.5, dist.ppf(0.001)),\n",
    "        min(10, dist.ppf(0.999)),\n",
    "        200\n",
    "    )\n",
    "    values = dist.cdf(domain)\n",
    "    ax.plot(domain, values, lw=5, label=name)\n",
    "    ax.fill_between(domain, 0, values, alpha=.2)\n",
    "    \n",
    "ecdf = ECDF(x.data())\n",
    "domain = np.linspace(x.min(), x.max(), x.n() * 2)\n",
    "values = ecdf(domain)\n",
    "ax.plot(domain, values, lw=5, label='ECDF')\n",
    "ax.fill_between(domain, 0, values, alpha=.2)\n",
    "\n",
    "ax.legend(prop={'size': 32})\n",
    "    \n",
    "fig.tight_layout()\n",
    "plt.show()"
   ]
  },
  {
   "cell_type": "markdown",
   "metadata": {},
   "source": [
    "# 5. Двухвыборочные критерии"
   ]
  },
  {
   "cell_type": "code",
   "execution_count": 10,
   "metadata": {},
   "outputs": [
    {
     "name": "stdout",
     "output_type": "stream",
     "text": [
      "Характеристики СВ Y:\n"
     ]
    },
    {
     "data": {
      "text/html": [
       "<table width=\"100%\" class=\"htable\">\n",
       "    <thead><tr><th>Распределение</th><th>Параметры</th><th>Мат. ожидание $m$</th><th>Дисперсия $\\sigma^2$</th></tr></thead>\n",
       "    <tbody><tr><td>N(5,2)</td><td>5,2</td><td>5.0</td><td>2.0000000000000004</td></tr></tbody>\n",
       "    </table>"
      ],
      "text/plain": [
       "<IPython.core.display.HTML object>"
      ]
     },
     "metadata": {},
     "output_type": "display_data"
    },
    {
     "name": "stdout",
     "output_type": "stream",
     "text": [
      "Характеристики выборки y\n"
     ]
    },
    {
     "data": {
      "text/html": [
       "<table width=\"100%\" class=\"htable\">\n",
       "    <thead><tr><th>Среднее, $\\overline{x}$</th><th>Оценка дисперсии, $s^2$</th><th>Оценка с.к.о., $s$</th></tr></thead>\n",
       "    <tbody><tr><td>4.7810795181233035</td><td>1.845054233393522</td><td>1.3583277341619444</td></tr></tbody>\n",
       "    </table>"
      ],
      "text/plain": [
       "<IPython.core.display.HTML object>"
      ]
     },
     "metadata": {},
     "output_type": "display_data"
    }
   ],
   "source": [
    "print('Характеристики СВ Y:')\n",
    "table(\n",
    "    ['Распределение', 'Параметры', 'Мат. ожидание $m$', 'Дисперсия $\\\\sigma^2$'],\n",
    "    [['N(5,2)','5,2', Y.mean(), Y.var()]],\n",
    ")\n",
    "\n",
    "print('Характеристики выборки y')\n",
    "table(\n",
    "    ['Среднее, $\\\\overline{x}$', 'Оценка дисперсии, $s^2$', 'Оценка с.к.о., $s$'],\n",
    "    [[y.mean(), y.s()**2, y.s()]]\n",
    ")"
   ]
  },
  {
   "cell_type": "code",
   "execution_count": 20,
   "metadata": {},
   "outputs": [
    {
     "data": {
      "text/plain": [
       "[<matplotlib.lines.Line2D at 0x122c33ef0>]"
      ]
     },
     "execution_count": 20,
     "metadata": {},
     "output_type": "execute_result"
    },
    {
     "data": {
      "image/png": "[encoded data removed]",
      "text/plain": [
       "<Figure size 1728x1152 with 2 Axes>"
      ]
     },
     "metadata": {
      "needs_background": "light"
     },
     "output_type": "display_data"
    }
   ],
   "source": [
    "fig, ax = plt.subplots(1, 2)\n",
    "\n",
    "left_plot = ax[0]\n",
    "right_plot = ax[1]\n",
    "\n",
    "min_val = max(x.min(), y.min())\n",
    "max_val = min(x.max(), y.max())\n",
    "clipped_x = np.clip(x.data(), min_val, max_val)\n",
    "clipped_y = np.clip(y.data(), min_val, max_val)\n",
    "\n",
    "left_plot.set_title('HIST: X, Y')\n",
    "left_plot.hist(clipped_x, bins=10, label='x', alpha=.5)\n",
    "left_plot.hist(clipped_y, bins=10, label='y', alpha=.5)\n",
    "left_plot.legend()\n",
    "\n",
    "\n",
    "right_plot.set_title('ECDF:X, Y');\n",
    "xecdf = ECDF(x.data())\n",
    "xdomain = np.linspace(x.min(), x.max(), x.n() * 2)\n",
    "xvalues = xecdf(xdomain)\n",
    "ax[1].plot(xdomain, xvalues, lw=5, label='ECDF')\n",
    "yecdf = ECDF(y.data())\n",
    "ydomain = np.linspace(y.min(), y.max(), y.n() * 2)\n",
    "yvalues = yecdf(ydomain)\n",
    "ax[1].plot(ydomain, yvalues, lw=5, label='ECDF')\n",
    "\n",
    "\n",
    "# TODO: ECDF"
   ]
  },
  {
   "cell_type": "code",
   "execution_count": 12,
   "metadata": {},
   "outputs": [
    {
     "data": {
      "text/html": [
       "<table width=\"100%\" class=\"htable\">\n",
       "    <thead><tr><th>Критерий</th><th>Статистическая гипотеза $H_0$</th><th>Выборочное значение статистики критерия</th><th>p-value</th><th>Статистическое решение при $\\alpha$ = 0.01</th><th>Ошибка статистического решения</th></tr></thead>\n",
       "    <tbody><tr><td>Chi-squared</td><td>X ~ Y</td><td>9.1589</td><td>0.5171</td><td>H0</td><td>-</td></tr><tr><td>KS-test</td><td>X ~ Y</td><td>0.17</td><td>0.0994</td><td>H1</td><td>Ошибка 1-го рода</td></tr><tr><td>Sign test</td><td>X ~ Y</td><td>0.8</td><td>0.4237</td><td>H0</td><td>-</td></tr><tr><td>U-test</td><td>X ~ Y</td><td>-1.2926</td><td>0.0983</td><td>H0</td><td>-</td></tr></tbody>\n",
       "    </table>"
      ],
      "text/plain": [
       "<IPython.core.display.HTML object>"
      ]
     },
     "metadata": {},
     "output_type": "display_data"
    }
   ],
   "source": [
    "alpha = 0.01\n",
    "from s import Pierson2SampledHyp\n",
    "from functools import *\n",
    "def sign_test(x, y):\n",
    "    n = len(list(filter(lambda t: t != 0, list(x - y))))\n",
    "    K = len(list(filter(lambda t: t > 0, list(x - y))))\n",
    "    H = K/n\n",
    "    z = 2 * np.sqrt(n) * (H - 1/2)\n",
    "    left_p = stats.norm.cdf(z, 0, 1)\n",
    "    p_value = 2 * min(left_p, 1 - left_p)\n",
    "    return z, p_value\n",
    "\n",
    "def chi2_row(text):\n",
    "    start = math.floor(min(x.min(), y.min()))\n",
    "    end = math.ceil(max(x.max(), y.max()))\n",
    "    step = (end - start) / 10\n",
    "    \n",
    "    h0 = Pierson2SampledHyp(\n",
    "        bins=np.arange(start, end + step, step),\n",
    "    )\n",
    "    criterion_v, critical_v, p_v, passed = h0.full_test(x, y, alpha)\n",
    "    decision = 'H0' if passed else 'H1'\n",
    "    err = \"-\"\n",
    "    if decision != 'H0':\n",
    "        err = \"Ошибка 1-го рода\"\n",
    "            \n",
    "    return [text, \"X ~ Y\", round(criterion_v, 4), round(p_v, 4), decision, err]\n",
    "def ks_row(text):\n",
    "    criterion_v, p_v = stats.ks_2samp(x.data(), y.data())\n",
    "    decision = \"\"\n",
    "    if stats.ksone.ppf(1-alpha, nx) > criterion_v:\n",
    "        decision = \"H0\"\n",
    "    else:\n",
    "        decision = \"H1\"\n",
    "    err = \"-\"\n",
    "    if decision != 'H0':\n",
    "        err = \"Ошибка 1-го рода\"\n",
    "    return [text, \"X ~ Y\", round(criterion_v, 4), round(p_v, 4), decision, err]\n",
    "def sign_row(text):\n",
    "    criterion_v, p_v = sign_test(x.data(), y.data())\n",
    "    decision = \"\"\n",
    "    if  abs(criterion_v) < stats.norm.ppf(1-alpha/2, 0, 1):\n",
    "        decision = \"H0\"\n",
    "    else:\n",
    "        decision = \"H1\"\n",
    "    err = \"-\"\n",
    "    if decision != 'H0':\n",
    "        err = \"Ошибка 1-го рода\"\n",
    "    return [text, \"X ~ Y\", round(criterion_v, 4), round(p_v, 4), decision, err]\n",
    "def u_row(text):\n",
    "    criterion_v, p_v = stats.mannwhitneyu(x.data(), y.data())\n",
    "    criterion_v = (criterion_v - nx*ny/2)/np.sqrt(nx*ny*(nx +ny + 1)/12)\n",
    "    if  abs(criterion_v) < stats.norm.ppf(1-alpha/2, 0, 1):\n",
    "        decision = \"H0\"\n",
    "    else:\n",
    "        decision = \"H1\"\n",
    "    err = \"-\"\n",
    "    if decision != 'H0':\n",
    "        err = \"Ошибка 1-го рода\"\n",
    "    return [text, \"X ~ Y\", round(criterion_v, 4), round(p_v, 4), decision, err]\n",
    "\n",
    "table(\n",
    "    [\n",
    "        'Критерий',\n",
    "        'Статистическая гипотеза $H_0$',\n",
    "        'Выборочное значение статистики критерия',\n",
    "        'p-value',\n",
    "        'Статистическое решение при $\\\\alpha$ = {}'.format(alpha),\n",
    "        'Ошибка статистического решения'\n",
    "    ],\n",
    "    [\n",
    "        chi2_row('Chi-squared'),\n",
    "        ks_row('KS-test'),\n",
    "        sign_row('Sign test'),\n",
    "        u_row('U-test'),\n",
    "    ]\n",
    ")"
   ]
  },
  {
   "cell_type": "code",
   "execution_count": null,
   "metadata": {},
   "outputs": [],
   "source": []
  },
  {
   "cell_type": "code",
   "execution_count": null,
   "metadata": {},
   "outputs": [],
   "source": []
  }
 ],
 "metadata": {
  "kernelspec": {
   "display_name": "Python 3",
   "language": "python",
   "name": "python3"
  },
  "language_info": {
   "codemirror_mode": {
    "name": "ipython",
    "version": 3
   },
   "file_extension": ".py",
   "mimetype": "text/x-python",
   "name": "python",
   "nbconvert_exporter": "python",
   "pygments_lexer": "ipython3",
   "version": "3.7.0"
  }
 },
 "nbformat": 4,
 "nbformat_minor": 2
}
